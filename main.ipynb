{
 "cells": [
  {
   "cell_type": "markdown",
   "source": [
    "# ADM - HW3 - Places of the world"
   ],
   "metadata": {
    "collapsed": false
   }
  },
  {
   "cell_type": "markdown",
   "source": [
    "## Libraries & Setup"
   ],
   "metadata": {
    "collapsed": false
   }
  },
  {
   "cell_type": "code",
   "execution_count": 199,
   "outputs": [],
   "source": [
    "import os   # Operating System interaction\n",
    "\n",
    "from multiprocess import Pool   # Multiprocessing\n",
    "import pandas as pd   # Data manipulation and analysis\n",
    "import re   # Regular Expressions\n",
    "\n",
    "from collections import defaultdict   # Dictionary with default value\n",
    "import numpy as np   # Scientific Computing\n",
    "import time   # Execution time measurement\n",
    "import functools   # Functions manipulation\n",
    "import nltk   # Natural language processing\n",
    "import hashlib   # Hashing\n",
    "import json\n",
    "import heapq   # Heap data structure\n",
    "import folium\n",
    "\n",
    "from sklearn.feature_extraction.text import TfidfVectorizer\n",
    "from sklearn.metrics.pairwise import cosine_similarity\n",
    "\n",
    "from haversine import haversine\n",
    "\n",
    "import matplotlib.pyplot as plt   # Visualization\n",
    "\n",
    "import warnings\n",
    "warnings.filterwarnings('ignore')\n",
    "\n",
    "import functions\n",
    "\n",
    "main_path = os.getcwd()"
   ],
   "metadata": {
    "collapsed": false
   }
  },
  {
   "cell_type": "markdown",
   "source": [
    "# 1. Data Collection"
   ],
   "metadata": {
    "collapsed": false
   }
  },
  {
   "cell_type": "markdown",
   "source": [
    "## 1.1. *Get the list of places*"
   ],
   "metadata": {
    "collapsed": false
   }
  },
  {
   "cell_type": "markdown",
   "source": [
    "We start by collecting all the URLs of the places we want to focus on. To do so, we define a function **collect_urls** which retrieves the URLs of the **\"Most popular places\"** places listed in the first $400$ pages and stores them in a *.txt* file"
   ],
   "metadata": {
    "collapsed": false
   }
  },
  {
   "cell_type": "code",
   "execution_count": 4,
   "outputs": [],
   "source": [
    "# Collect URLs\n",
    "functions.collect_urls('Places URLs.txt')"
   ],
   "metadata": {
    "collapsed": false
   }
  },
  {
   "cell_type": "markdown",
   "source": [
    "## 1.2. *Crawl places*"
   ],
   "metadata": {
    "collapsed": false
   }
  },
  {
   "cell_type": "markdown",
   "source": [
    "We then proceed by downloading the HTML corresponding to each of the collected URLs. To fulfil this task, the **collect_html_pages** function is defined, which takes in input the pair *(URL, URL index)* for $0<=index<7200$ and outputs the *.hmtl* file, which is then stored in the proper folder, according to the page in which the URL was listed.\n",
    "\n",
    "In order to *speed up* the retrieval of all the HTML pages, we take advantage of the ability of computer systems to run multiple processors concurrently, known as **multiprocessing**.\n",
    "\n",
    "A *pool* of $8$ worker processes is set up to download concurrently the HTML pages. The files are retrieved in batches of $100$ to allow for periodic sanity checks. After each step, the integrity of the HTML files in the batch is assessed: in the case of *silent multiprocessing errors*, since the different *workers* process the function calls **asynchronously**, files may be *created* but left *unfilled* (having size of just *few bytes*) or may be missing. If any issue is identified, or if an error arises, the whole batch is downloaded again. This approach allows us to download all the HTML pages $8$ *times faster* than the naive sequential one, while also handling possible *HTTP requests errors*."
   ],
   "metadata": {
    "collapsed": false
   }
  },
  {
   "cell_type": "code",
   "execution_count": 19,
   "outputs": [],
   "source": [
    "# Read URLs from .txt file and store them in a list\n",
    "urls_list = [line.rstrip() for line in open('Places URLs.txt', 'r')]\n",
    "\n",
    "# Build a list of pairs (URL, index) for each 0<=index<7200\n",
    "urls_pairs = [(urls_list[i],i) for i in range(len(urls_list))]\n",
    "\n",
    "# Retrieve HTML pages\n",
    "i = 0\n",
    "\n",
    "while i < len(urls_list):\n",
    "    try:\n",
    "        # Initialize a pool of 8 worker processes\n",
    "        with Pool(8) as p:\n",
    "            # Download a batch of 100 HTML files using multiprocessing\n",
    "            p.map(functions.collect_html_pages, urls_pairs[i:i+100])\n",
    "        # If no HTML file in the batch is corrupted (size of the files > 1 kbytes)\n",
    "        if all([os.path.getsize(\"HTML_Pages\\Page{}\\Doc{}.html\".format(k//18 + 1, k + 1)) > 1000 for k in range(i, i+100)]):\n",
    "            # Go to next batch\n",
    "            i+=100\n",
    "        # Otherwise: download again the same batch\n",
    "\n",
    "    # In the case of any error: try again\n",
    "    except:\n",
    "        continue"
   ],
   "metadata": {
    "collapsed": false
   }
  },
  {
   "cell_type": "markdown",
   "source": [
    "## 1.3. *Parse downloaded pages*"
   ],
   "metadata": {
    "collapsed": false
   }
  },
  {
   "cell_type": "markdown",
   "source": [
    "The HTML pages are then parsed via the **parse_page** function which extracts the desired information from each document and stores them into a *.tsv* file"
   ],
   "metadata": {
    "collapsed": false
   }
  },
  {
   "cell_type": "code",
   "execution_count": 6,
   "outputs": [],
   "source": [
    "# Parse HTML pages\n",
    "for i in range(len(urls_list)):\n",
    "    functions.parse_page(i, urls_list)"
   ],
   "metadata": {
    "collapsed": false
   }
  },
  {
   "cell_type": "markdown",
   "source": [
    "# 2. Search Engine"
   ],
   "metadata": {
    "collapsed": false
   }
  },
  {
   "cell_type": "code",
   "execution_count": 143,
   "outputs": [],
   "source": [
    "stemmer = nltk.stem.PorterStemmer()\n",
    "os.chdir(main_path)\n",
    "path = './TSV_Files'"
   ],
   "metadata": {
    "collapsed": false
   }
  },
  {
   "cell_type": "code",
   "execution_count": 144,
   "outputs": [],
   "source": [
    "Desc = functions.pre_process(path, stemmer)"
   ],
   "metadata": {
    "collapsed": false
   }
  },
  {
   "cell_type": "markdown",
   "source": [
    "## 2.1. Conjunctive query"
   ],
   "metadata": {
    "collapsed": false
   }
  },
  {
   "cell_type": "code",
   "execution_count": 145,
   "outputs": [],
   "source": [
    "# Retrieve all the unique words in the document description collections\n",
    "unique_words = set()\n",
    "for i in Desc: unique_words = unique_words.union(set(Desc[i].split()))"
   ],
   "metadata": {
    "collapsed": false
   }
  },
  {
   "cell_type": "markdown",
   "source": [
    "### 2.1.1. Create your index!"
   ],
   "metadata": {
    "collapsed": false
   }
  },
  {
   "cell_type": "markdown",
   "source": [
    "Hashing all the distinct words from the documents and creating a vocabulary"
   ],
   "metadata": {
    "collapsed": false
   }
  },
  {
   "cell_type": "code",
   "execution_count": 146,
   "outputs": [],
   "source": [
    "# Creating Vocabulary file\n",
    "\n",
    "def convertToNumber(mystring):\n",
    "    hash_object = hashlib.md5(mystring.encode())\n",
    "    return hash_object.hexdigest()\n",
    "\n",
    "vocabulary = {x: convertToNumber(x) for x in unique_words}\n",
    "\n",
    "os.chdir(main_path)\n",
    "with open('vocabulary.json', 'w') as f:\n",
    "    json.dump(vocabulary, f)"
   ],
   "metadata": {
    "collapsed": false
   }
  },
  {
   "cell_type": "code",
   "execution_count": 147,
   "outputs": [],
   "source": [
    "# Computing inverted index\n",
    "inverted_index = functions.build_inv_idx(Desc, vocabulary)"
   ],
   "metadata": {
    "collapsed": false
   }
  },
  {
   "cell_type": "markdown",
   "source": [
    "### 2.1.2. Execute the query"
   ],
   "metadata": {
    "collapsed": false
   }
  },
  {
   "cell_type": "code",
   "execution_count": 148,
   "outputs": [],
   "source": [
    "# Input query\n",
    "query = [x.lower() for x in list(map(stemmer.stem, input().split()))]"
   ],
   "metadata": {
    "collapsed": false
   }
  },
  {
   "cell_type": "code",
   "execution_count": 149,
   "outputs": [
    {
     "data": {
      "text/plain": "['american', 'museum']"
     },
     "execution_count": 149,
     "metadata": {},
     "output_type": "execute_result"
    }
   ],
   "source": [
    "query"
   ],
   "metadata": {
    "collapsed": false
   }
  },
  {
   "cell_type": "code",
   "execution_count": 150,
   "outputs": [
    {
     "data": {
      "text/plain": "                                     Title  \\\n0                   Museum of Mourning Art   \n1    Madam C.J. Walker Museum & WERD Radio   \n2             Museum of Un-Natural History   \n3                          Sweet Home Cafe   \n4                      Evel Knievel Museum   \n..                                     ...   \n234                     Lake Placid Murals   \n235                        The Hobo Museum   \n236                   Murals of Maxo Vanka   \n237                       Lucky Cat Museum   \n238      The Buffalo Bill Museum and Grave   \n\n                                           Description  \\\n0    Mourning and personal response to death are un...   \n1    This small brick building, located just a few ...   \n2    Throughout the ’70s and ’80s, Gerald Matthews ...   \n3    Thomas Downing was the oyster king. In 19th-ce...   \n4    The Evel Knievel Museum takes you through the ...   \n..                                                 ...   \n234  Founded in 1992, the Lake Placid Mural Society...   \n235  “Decide your own life, don’t let another perso...   \n236  Created in protest against industrial capitali...   \n237  Probably best known to Americans as the cute p...   \n238  American soldier, bison hunter, and showman, B...   \n\n                                                   URL  \n0    https://www.atlasobscura.com/places/museum-of-...  \n1    https://www.atlasobscura.com/places/madam-cj-w...  \n2    https://www.atlasobscura.com/places/museum-of-...  \n3    https://www.atlasobscura.com/places/sweet-home...  \n4    https://www.atlasobscura.com/places/evel-kniev...  \n..                                                 ...  \n234  https://www.atlasobscura.com/places/lake-placi...  \n235  https://www.atlasobscura.com/places/the-hobo-m...  \n236  https://www.atlasobscura.com/places/murals-of-...  \n237  https://www.atlasobscura.com/places/lucky-cat-...  \n238  https://www.atlasobscura.com/places/the-buffal...  \n\n[239 rows x 3 columns]",
      "text/html": "<div>\n<style scoped>\n    .dataframe tbody tr th:only-of-type {\n        vertical-align: middle;\n    }\n\n    .dataframe tbody tr th {\n        vertical-align: top;\n    }\n\n    .dataframe thead th {\n        text-align: right;\n    }\n</style>\n<table border=\"1\" class=\"dataframe\">\n  <thead>\n    <tr style=\"text-align: right;\">\n      <th></th>\n      <th>Title</th>\n      <th>Description</th>\n      <th>URL</th>\n    </tr>\n  </thead>\n  <tbody>\n    <tr>\n      <th>0</th>\n      <td>Museum of Mourning Art</td>\n      <td>Mourning and personal response to death are un...</td>\n      <td>https://www.atlasobscura.com/places/museum-of-...</td>\n    </tr>\n    <tr>\n      <th>1</th>\n      <td>Madam C.J. Walker Museum &amp; WERD Radio</td>\n      <td>This small brick building, located just a few ...</td>\n      <td>https://www.atlasobscura.com/places/madam-cj-w...</td>\n    </tr>\n    <tr>\n      <th>2</th>\n      <td>Museum of Un-Natural History</td>\n      <td>Throughout the ’70s and ’80s, Gerald Matthews ...</td>\n      <td>https://www.atlasobscura.com/places/museum-of-...</td>\n    </tr>\n    <tr>\n      <th>3</th>\n      <td>Sweet Home Cafe</td>\n      <td>Thomas Downing was the oyster king. In 19th-ce...</td>\n      <td>https://www.atlasobscura.com/places/sweet-home...</td>\n    </tr>\n    <tr>\n      <th>4</th>\n      <td>Evel Knievel Museum</td>\n      <td>The Evel Knievel Museum takes you through the ...</td>\n      <td>https://www.atlasobscura.com/places/evel-kniev...</td>\n    </tr>\n    <tr>\n      <th>...</th>\n      <td>...</td>\n      <td>...</td>\n      <td>...</td>\n    </tr>\n    <tr>\n      <th>234</th>\n      <td>Lake Placid Murals</td>\n      <td>Founded in 1992, the Lake Placid Mural Society...</td>\n      <td>https://www.atlasobscura.com/places/lake-placi...</td>\n    </tr>\n    <tr>\n      <th>235</th>\n      <td>The Hobo Museum</td>\n      <td>“Decide your own life, don’t let another perso...</td>\n      <td>https://www.atlasobscura.com/places/the-hobo-m...</td>\n    </tr>\n    <tr>\n      <th>236</th>\n      <td>Murals of Maxo Vanka</td>\n      <td>Created in protest against industrial capitali...</td>\n      <td>https://www.atlasobscura.com/places/murals-of-...</td>\n    </tr>\n    <tr>\n      <th>237</th>\n      <td>Lucky Cat Museum</td>\n      <td>Probably best known to Americans as the cute p...</td>\n      <td>https://www.atlasobscura.com/places/lucky-cat-...</td>\n    </tr>\n    <tr>\n      <th>238</th>\n      <td>The Buffalo Bill Museum and Grave</td>\n      <td>American soldier, bison hunter, and showman, B...</td>\n      <td>https://www.atlasobscura.com/places/the-buffal...</td>\n    </tr>\n  </tbody>\n</table>\n<p>239 rows × 3 columns</p>\n</div>"
     },
     "execution_count": 150,
     "metadata": {},
     "output_type": "execute_result"
    }
   ],
   "source": [
    "# Execute query and output result\n",
    "result, docs = functions.searchText(path, query, inverted_index, vocabulary)\n",
    "result"
   ],
   "metadata": {
    "collapsed": false
   }
  },
  {
   "cell_type": "markdown",
   "source": [
    "## 2.2. Conjunctive query & Ranking score"
   ],
   "metadata": {
    "collapsed": false
   }
  },
  {
   "cell_type": "code",
   "execution_count": 151,
   "outputs": [],
   "source": [
    "tfidf = TfidfVectorizer()"
   ],
   "metadata": {
    "collapsed": false
   }
  },
  {
   "cell_type": "code",
   "execution_count": 152,
   "outputs": [],
   "source": [
    "desc = np.array(list(map(list, Desc.items())))\n",
    "tfidf_sparse = tfidf.fit_transform(desc[:, 1])\n",
    "result_dense = tfidf_sparse.todense()"
   ],
   "metadata": {
    "collapsed": false
   }
  },
  {
   "cell_type": "markdown",
   "source": [
    "### 2.2.1. Inverted index"
   ],
   "metadata": {
    "collapsed": false
   }
  },
  {
   "cell_type": "code",
   "execution_count": 153,
   "outputs": [],
   "source": [
    "important_words = set.intersection(set(vocabulary.keys()), set(tfidf.get_feature_names()))\n",
    "files = list(desc[:, 0])\n",
    "names = list(tfidf.get_feature_names())"
   ],
   "metadata": {
    "collapsed": false
   }
  },
  {
   "cell_type": "code",
   "execution_count": 154,
   "outputs": [],
   "source": [
    "inverted_index2 = functions.build_inv_idx2(important_words, vocabulary, inverted_index, files, result_dense, names)\n",
    "inverted_index2"
   ],
   "metadata": {
    "collapsed": false
   }
  },
  {
   "cell_type": "code",
   "execution_count": 155,
   "outputs": [],
   "source": [
    "# Cosine similarity\n",
    "query_vector = tfidf.transform([\" \".join(query)])\n",
    "similarities = cosine_similarity(tfidf_sparse, query_vector).reshape((-1,))"
   ],
   "metadata": {
    "collapsed": false
   }
  },
  {
   "cell_type": "markdown",
   "source": [
    "### 2.2.2. Execute the query"
   ],
   "metadata": {
    "collapsed": false
   }
  },
  {
   "cell_type": "code",
   "execution_count": 158,
   "outputs": [],
   "source": [
    "# Heap to store and retrieve top-k results\n",
    "pairs = [(similarities[i], files[i]) for i in range(len(similarities))]\n",
    "\n",
    "# Filter for documents that contain all words in query\n",
    "important_pairs = [x for x in pairs if x[1] in docs]\n",
    "\n",
    "heap, k = [], 20\n",
    "heapq.heapify(heap)\n",
    "\n",
    "for el in important_pairs:\n",
    "    heapq.heappush(heap,el)\n",
    "    if len(heap)>k:\n",
    "        heapq.heappop(heap)"
   ],
   "metadata": {
    "collapsed": false
   }
  },
  {
   "cell_type": "code",
   "execution_count": 159,
   "outputs": [],
   "source": [
    "result = pd.DataFrame(columns = ['Title', 'Description', 'URL', \"Similarity\"])\n",
    "os.chdir(main_path)\n",
    "os.chdir(path)\n",
    "for i in range(k):\n",
    "    pair = heapq.heappop(heap)\n",
    "    f = open(pair[1], \"r\", encoding=\"utf8\")\n",
    "    a = f.read()\n",
    "    a = re.split(r'\\t', a)\n",
    "    result = result.append({'Title': a[0].strip(),'Description': a[4], 'URL': a[14].strip(), 'Similarity': pair[0]}, ignore_index=True).sort_values(by=\"Similarity\", ascending=False)\n",
    "    f.close()"
   ],
   "metadata": {
    "collapsed": false
   }
  },
  {
   "cell_type": "code",
   "execution_count": 160,
   "outputs": [
    {
     "data": {
      "text/plain": "                                 Title  \\\n19                 Indian Steps Museum   \n0                  Museum of the Weird   \n1                      Sweet Home Cafe   \n2    Harvard Museum of Natural History   \n3               Siriraj Medical Museum   \n4           Self-Taught Genius Gallery   \n5                 Milwaukee Art Museum   \n6         National World War II Museum   \n7              American Writers Museum   \n8         Geppi's Entertainment Museum   \n9               Museum of Mourning Art   \n10              Museum of Psychphonics   \n11  National Museum of the Pacific War   \n12        Mammoth Cave Wildlife Museum   \n13            Glore Psychiatric Museum   \n14              Roanoke Pinball Museum   \n15                     AAF Tank Museum   \n16     Frederick R. Weisman Art Museum   \n17            Mount Angel Abbey Museum   \n18        World's Largest Shuttlecocks   \n\n                                          Description  \\\n19  Constructed by a local lawyer from 1908-1912, ...   \n0   The dime or dime store museum is by all accoun...   \n1   Thomas Downing was the oyster king. In 19th-ce...   \n2   Collecting three different institutions into o...   \n3   The Siriraj Medical Museum abounds with medica...   \n4   In 2017, the American Folk Art Museum in Manha...   \n5   Like the Guggenheim in New York and the Oaklan...   \n6   Perhaps once thought too narrowly focused, thi...   \n7   The American Writers Museum—tucked away on the...   \n8   It’s a unique place that can create a sentimen...   \n9   Mourning and personal response to death are un...   \n10  The Museum of Psychphonics is a modern-day wun...   \n11  Dedicated specifically to remembering the stor...   \n12  Cave City is a wonderland of kitschy tourist t...   \n13  Located in St. Joseph, Missouri, the Glore Psy...   \n14  In downtownRoanoke inside the “Center in the S...   \n15  The American Armed Forces Tank Museum (AAF Tan...   \n16  Housed in a striking stainless steel and brick...   \n17  The Mount Angel Abbey Museum is a very eclecti...   \n18  Across the expansive grounds of the Nelson-Atk...   \n\n                                                  URL  Similarity  \n19  https://www.atlasobscura.com/places/indian-ste...    0.303435  \n0    https://www.atlasobscura.com/places/museum-weird    0.279969  \n1   https://www.atlasobscura.com/places/sweet-home...    0.262670  \n2   https://www.atlasobscura.com/places/harvard-mu...    0.257088  \n3   https://www.atlasobscura.com/places/siriraj-me...    0.245090  \n4   https://www.atlasobscura.com/places/self-taugh...    0.240613  \n5   https://www.atlasobscura.com/places/milwaukee-...    0.229240  \n6   https://www.atlasobscura.com/places/national-w...    0.219917  \n7   https://www.atlasobscura.com/places/american-w...    0.219423  \n8   https://www.atlasobscura.com/places/geppi-s-en...    0.206554  \n9   https://www.atlasobscura.com/places/museum-of-...    0.204143  \n10  https://www.atlasobscura.com/places/museum-of-...    0.199408  \n11  https://www.atlasobscura.com/places/national-m...    0.196793  \n12  https://www.atlasobscura.com/places/mammoth-ca...    0.193716  \n13  https://www.atlasobscura.com/places/glore-psyc...    0.192458  \n14  https://www.atlasobscura.com/places/roanoke-pi...    0.189731  \n15  https://www.atlasobscura.com/places/aaf-tank-m...    0.188940  \n16  https://www.atlasobscura.com/places/frederick-...    0.187413  \n17  https://www.atlasobscura.com/places/mount-ange...    0.183766  \n18  https://www.atlasobscura.com/places/world-s-la...    0.172714  ",
      "text/html": "<div>\n<style scoped>\n    .dataframe tbody tr th:only-of-type {\n        vertical-align: middle;\n    }\n\n    .dataframe tbody tr th {\n        vertical-align: top;\n    }\n\n    .dataframe thead th {\n        text-align: right;\n    }\n</style>\n<table border=\"1\" class=\"dataframe\">\n  <thead>\n    <tr style=\"text-align: right;\">\n      <th></th>\n      <th>Title</th>\n      <th>Description</th>\n      <th>URL</th>\n      <th>Similarity</th>\n    </tr>\n  </thead>\n  <tbody>\n    <tr>\n      <th>19</th>\n      <td>Indian Steps Museum</td>\n      <td>Constructed by a local lawyer from 1908-1912, ...</td>\n      <td>https://www.atlasobscura.com/places/indian-ste...</td>\n      <td>0.303435</td>\n    </tr>\n    <tr>\n      <th>0</th>\n      <td>Museum of the Weird</td>\n      <td>The dime or dime store museum is by all accoun...</td>\n      <td>https://www.atlasobscura.com/places/museum-weird</td>\n      <td>0.279969</td>\n    </tr>\n    <tr>\n      <th>1</th>\n      <td>Sweet Home Cafe</td>\n      <td>Thomas Downing was the oyster king. In 19th-ce...</td>\n      <td>https://www.atlasobscura.com/places/sweet-home...</td>\n      <td>0.262670</td>\n    </tr>\n    <tr>\n      <th>2</th>\n      <td>Harvard Museum of Natural History</td>\n      <td>Collecting three different institutions into o...</td>\n      <td>https://www.atlasobscura.com/places/harvard-mu...</td>\n      <td>0.257088</td>\n    </tr>\n    <tr>\n      <th>3</th>\n      <td>Siriraj Medical Museum</td>\n      <td>The Siriraj Medical Museum abounds with medica...</td>\n      <td>https://www.atlasobscura.com/places/siriraj-me...</td>\n      <td>0.245090</td>\n    </tr>\n    <tr>\n      <th>4</th>\n      <td>Self-Taught Genius Gallery</td>\n      <td>In 2017, the American Folk Art Museum in Manha...</td>\n      <td>https://www.atlasobscura.com/places/self-taugh...</td>\n      <td>0.240613</td>\n    </tr>\n    <tr>\n      <th>5</th>\n      <td>Milwaukee Art Museum</td>\n      <td>Like the Guggenheim in New York and the Oaklan...</td>\n      <td>https://www.atlasobscura.com/places/milwaukee-...</td>\n      <td>0.229240</td>\n    </tr>\n    <tr>\n      <th>6</th>\n      <td>National World War II Museum</td>\n      <td>Perhaps once thought too narrowly focused, thi...</td>\n      <td>https://www.atlasobscura.com/places/national-w...</td>\n      <td>0.219917</td>\n    </tr>\n    <tr>\n      <th>7</th>\n      <td>American Writers Museum</td>\n      <td>The American Writers Museum—tucked away on the...</td>\n      <td>https://www.atlasobscura.com/places/american-w...</td>\n      <td>0.219423</td>\n    </tr>\n    <tr>\n      <th>8</th>\n      <td>Geppi's Entertainment Museum</td>\n      <td>It’s a unique place that can create a sentimen...</td>\n      <td>https://www.atlasobscura.com/places/geppi-s-en...</td>\n      <td>0.206554</td>\n    </tr>\n    <tr>\n      <th>9</th>\n      <td>Museum of Mourning Art</td>\n      <td>Mourning and personal response to death are un...</td>\n      <td>https://www.atlasobscura.com/places/museum-of-...</td>\n      <td>0.204143</td>\n    </tr>\n    <tr>\n      <th>10</th>\n      <td>Museum of Psychphonics</td>\n      <td>The Museum of Psychphonics is a modern-day wun...</td>\n      <td>https://www.atlasobscura.com/places/museum-of-...</td>\n      <td>0.199408</td>\n    </tr>\n    <tr>\n      <th>11</th>\n      <td>National Museum of the Pacific War</td>\n      <td>Dedicated specifically to remembering the stor...</td>\n      <td>https://www.atlasobscura.com/places/national-m...</td>\n      <td>0.196793</td>\n    </tr>\n    <tr>\n      <th>12</th>\n      <td>Mammoth Cave Wildlife Museum</td>\n      <td>Cave City is a wonderland of kitschy tourist t...</td>\n      <td>https://www.atlasobscura.com/places/mammoth-ca...</td>\n      <td>0.193716</td>\n    </tr>\n    <tr>\n      <th>13</th>\n      <td>Glore Psychiatric Museum</td>\n      <td>Located in St. Joseph, Missouri, the Glore Psy...</td>\n      <td>https://www.atlasobscura.com/places/glore-psyc...</td>\n      <td>0.192458</td>\n    </tr>\n    <tr>\n      <th>14</th>\n      <td>Roanoke Pinball Museum</td>\n      <td>In downtownRoanoke inside the “Center in the S...</td>\n      <td>https://www.atlasobscura.com/places/roanoke-pi...</td>\n      <td>0.189731</td>\n    </tr>\n    <tr>\n      <th>15</th>\n      <td>AAF Tank Museum</td>\n      <td>The American Armed Forces Tank Museum (AAF Tan...</td>\n      <td>https://www.atlasobscura.com/places/aaf-tank-m...</td>\n      <td>0.188940</td>\n    </tr>\n    <tr>\n      <th>16</th>\n      <td>Frederick R. Weisman Art Museum</td>\n      <td>Housed in a striking stainless steel and brick...</td>\n      <td>https://www.atlasobscura.com/places/frederick-...</td>\n      <td>0.187413</td>\n    </tr>\n    <tr>\n      <th>17</th>\n      <td>Mount Angel Abbey Museum</td>\n      <td>The Mount Angel Abbey Museum is a very eclecti...</td>\n      <td>https://www.atlasobscura.com/places/mount-ange...</td>\n      <td>0.183766</td>\n    </tr>\n    <tr>\n      <th>18</th>\n      <td>World's Largest Shuttlecocks</td>\n      <td>Across the expansive grounds of the Nelson-Atk...</td>\n      <td>https://www.atlasobscura.com/places/world-s-la...</td>\n      <td>0.172714</td>\n    </tr>\n  </tbody>\n</table>\n</div>"
     },
     "execution_count": 160,
     "metadata": {},
     "output_type": "execute_result"
    }
   ],
   "source": [
    "result"
   ],
   "metadata": {
    "collapsed": false
   }
  },
  {
   "cell_type": "markdown",
   "source": [
    "# 3. Define a new score!"
   ],
   "metadata": {
    "collapsed": false
   }
  },
  {
   "cell_type": "markdown",
   "source": [
    "In the new search engine, the user is asked to input *not only* his **textual query**, but also the name of a **country** he would like the search engine to focus on. The documents are then scored according to the following metrics:\n",
    "\n",
    "* **Cosine similarity** to the query concerning the **tfIdf** representations of the documents (as in the original search engine)\n",
    "* The **distance** of the place with respect to the **capital city** of the country specified\n",
    "* The **Cosine similarity** to the query of the **nearby places** listed\n",
    "\n",
    "As a measure of distance between cities, the **Haversine distance** is considered, which takes as input the $(latitude, longitude)$ coordinates and outputs a scalar; it ranges between $0$ and $20020$ (*Km*)\n",
    "\n",
    "The final custom scoring function has the following form:\n",
    "\n",
    "$$ CosineSimilarity * \\frac{Haversine\\_dist}{Max\\_Haversine\\_dist} * (0.5 + \\frac{\\sum {CosineSimilarity (Nearby\\_Places)}} {2*Max\\_#\\_Nearby\\_Places})$$\n",
    "\n",
    "The **Haversine distance** and the **Cosine similarity** of nearby places are properly normalized, leading the function to be bounded in $[0,1]$"
   ],
   "metadata": {
    "collapsed": false
   }
  },
  {
   "cell_type": "code",
   "execution_count": 174,
   "outputs": [],
   "source": [
    "# Input query\n",
    "query = [x.lower() for x in list(map(stemmer.stem, input(\"Enter your query: \").split()))]\n",
    "country = input(\"Enter the country you would like to visit: \")"
   ],
   "metadata": {
    "collapsed": false
   }
  },
  {
   "cell_type": "code",
   "execution_count": 175,
   "outputs": [
    {
     "data": {
      "text/plain": "['american', 'museum']"
     },
     "execution_count": 175,
     "metadata": {},
     "output_type": "execute_result"
    }
   ],
   "source": [
    "query"
   ],
   "metadata": {
    "collapsed": false
   }
  },
  {
   "cell_type": "code",
   "execution_count": 176,
   "outputs": [
    {
     "data": {
      "text/plain": "'united states'"
     },
     "execution_count": 176,
     "metadata": {},
     "output_type": "execute_result"
    }
   ],
   "source": [
    "country"
   ],
   "metadata": {
    "collapsed": false
   }
  },
  {
   "cell_type": "code",
   "execution_count": 177,
   "outputs": [
    {
     "data": {
      "text/plain": "                                     Title  \\\n0                   Museum of Mourning Art   \n1    Madam C.J. Walker Museum & WERD Radio   \n2             Museum of Un-Natural History   \n3                          Sweet Home Cafe   \n4                      Evel Knievel Museum   \n..                                     ...   \n234                     Lake Placid Murals   \n235                        The Hobo Museum   \n236                   Murals of Maxo Vanka   \n237                       Lucky Cat Museum   \n238      The Buffalo Bill Museum and Grave   \n\n                                           Description  \\\n0    Mourning and personal response to death are un...   \n1    This small brick building, located just a few ...   \n2    Throughout the ’70s and ’80s, Gerald Matthews ...   \n3    Thomas Downing was the oyster king. In 19th-ce...   \n4    The Evel Knievel Museum takes you through the ...   \n..                                                 ...   \n234  Founded in 1992, the Lake Placid Mural Society...   \n235  “Decide your own life, don’t let another perso...   \n236  Created in protest against industrial capitali...   \n237  Probably best known to Americans as the cute p...   \n238  American soldier, bison hunter, and showman, B...   \n\n                                                   URL  \n0    https://www.atlasobscura.com/places/museum-of-...  \n1    https://www.atlasobscura.com/places/madam-cj-w...  \n2    https://www.atlasobscura.com/places/museum-of-...  \n3    https://www.atlasobscura.com/places/sweet-home...  \n4    https://www.atlasobscura.com/places/evel-kniev...  \n..                                                 ...  \n234  https://www.atlasobscura.com/places/lake-placi...  \n235  https://www.atlasobscura.com/places/the-hobo-m...  \n236  https://www.atlasobscura.com/places/murals-of-...  \n237  https://www.atlasobscura.com/places/lucky-cat-...  \n238  https://www.atlasobscura.com/places/the-buffal...  \n\n[239 rows x 3 columns]",
      "text/html": "<div>\n<style scoped>\n    .dataframe tbody tr th:only-of-type {\n        vertical-align: middle;\n    }\n\n    .dataframe tbody tr th {\n        vertical-align: top;\n    }\n\n    .dataframe thead th {\n        text-align: right;\n    }\n</style>\n<table border=\"1\" class=\"dataframe\">\n  <thead>\n    <tr style=\"text-align: right;\">\n      <th></th>\n      <th>Title</th>\n      <th>Description</th>\n      <th>URL</th>\n    </tr>\n  </thead>\n  <tbody>\n    <tr>\n      <th>0</th>\n      <td>Museum of Mourning Art</td>\n      <td>Mourning and personal response to death are un...</td>\n      <td>https://www.atlasobscura.com/places/museum-of-...</td>\n    </tr>\n    <tr>\n      <th>1</th>\n      <td>Madam C.J. Walker Museum &amp; WERD Radio</td>\n      <td>This small brick building, located just a few ...</td>\n      <td>https://www.atlasobscura.com/places/madam-cj-w...</td>\n    </tr>\n    <tr>\n      <th>2</th>\n      <td>Museum of Un-Natural History</td>\n      <td>Throughout the ’70s and ’80s, Gerald Matthews ...</td>\n      <td>https://www.atlasobscura.com/places/museum-of-...</td>\n    </tr>\n    <tr>\n      <th>3</th>\n      <td>Sweet Home Cafe</td>\n      <td>Thomas Downing was the oyster king. In 19th-ce...</td>\n      <td>https://www.atlasobscura.com/places/sweet-home...</td>\n    </tr>\n    <tr>\n      <th>4</th>\n      <td>Evel Knievel Museum</td>\n      <td>The Evel Knievel Museum takes you through the ...</td>\n      <td>https://www.atlasobscura.com/places/evel-kniev...</td>\n    </tr>\n    <tr>\n      <th>...</th>\n      <td>...</td>\n      <td>...</td>\n      <td>...</td>\n    </tr>\n    <tr>\n      <th>234</th>\n      <td>Lake Placid Murals</td>\n      <td>Founded in 1992, the Lake Placid Mural Society...</td>\n      <td>https://www.atlasobscura.com/places/lake-placi...</td>\n    </tr>\n    <tr>\n      <th>235</th>\n      <td>The Hobo Museum</td>\n      <td>“Decide your own life, don’t let another perso...</td>\n      <td>https://www.atlasobscura.com/places/the-hobo-m...</td>\n    </tr>\n    <tr>\n      <th>236</th>\n      <td>Murals of Maxo Vanka</td>\n      <td>Created in protest against industrial capitali...</td>\n      <td>https://www.atlasobscura.com/places/murals-of-...</td>\n    </tr>\n    <tr>\n      <th>237</th>\n      <td>Lucky Cat Museum</td>\n      <td>Probably best known to Americans as the cute p...</td>\n      <td>https://www.atlasobscura.com/places/lucky-cat-...</td>\n    </tr>\n    <tr>\n      <th>238</th>\n      <td>The Buffalo Bill Museum and Grave</td>\n      <td>American soldier, bison hunter, and showman, B...</td>\n      <td>https://www.atlasobscura.com/places/the-buffal...</td>\n    </tr>\n  </tbody>\n</table>\n<p>239 rows × 3 columns</p>\n</div>"
     },
     "execution_count": 177,
     "metadata": {},
     "output_type": "execute_result"
    }
   ],
   "source": [
    "# Execute query and output result\n",
    "os.chdir(main_path)\n",
    "result, docs = functions.searchText(path, query, inverted_index, vocabulary)\n",
    "result"
   ],
   "metadata": {
    "collapsed": false
   }
  },
  {
   "cell_type": "code",
   "execution_count": 178,
   "outputs": [],
   "source": [
    "# Cosine similarity\n",
    "query_vector_new = tfidf.transform([\" \".join(query)])\n",
    "similarities_new = cosine_similarity(tfidf_sparse, query_vector_new).reshape((-1,))\n",
    "\n",
    "pairs_new = [(similarities[i], files[i]) for i in range(len(similarities))]\n",
    "\n",
    "important_pairs_new = [x for x in pairs if x[1] in docs]"
   ],
   "metadata": {
    "collapsed": false
   }
  },
  {
   "cell_type": "code",
   "execution_count": 179,
   "outputs": [],
   "source": [
    "# Collect names of places for each file\n",
    "sim_names = {}\n",
    "gg = 0\n",
    "os.chdir(main_path)\n",
    "os.chdir(path)\n",
    "for x in pairs_new:\n",
    "    with open(x[1], 'r', encoding='utf-8') as f:\n",
    "        a = f.read()\n",
    "        a = re.split(r'\\t+', a)\n",
    "        name = a[0]\n",
    "        sim_names[name] = x[0]"
   ],
   "metadata": {
    "collapsed": false
   }
  },
  {
   "cell_type": "code",
   "execution_count": 180,
   "outputs": [],
   "source": [
    "# Normalization constants\n",
    "max_haversine = 20020\n",
    "max_nearby_places = 3"
   ],
   "metadata": {
    "collapsed": false
   }
  },
  {
   "cell_type": "code",
   "execution_count": 181,
   "outputs": [
    {
     "data": {
      "text/plain": "{'abkhazia': (43.001525, 41.023415),\n 'afghanistan': (34.575503, 69.240073),\n 'aland islands': (60.1, 19.933333),\n 'albania': (41.327546, 19.818698),\n 'algeria': (36.752887, 3.042048),\n 'american samoa': (-14.275632, -170.702036),\n 'andorra': (42.506317, 1.521835),\n 'angola': (-8.839988, 13.289437),\n 'anguilla': (18.214813, -63.057441),\n 'antarctica': (-90.0, 0.0),\n 'antigua and barbuda': (17.12741, -61.846772),\n 'argentina': (-34.603684, -58.381559),\n 'armenia': (40.179186, 44.499103),\n 'aruba': (12.509204, -70.008631),\n 'australia': (-35.282, 149.128684),\n 'austria': (48.208174, 16.373819),\n 'azerbaijan': (40.409262, 49.867092),\n 'bahamas': (25.047984, -77.355413),\n 'bahrain': (26.228516, 50.58605),\n 'bangladesh': (23.810332, 90.412518),\n 'barbados': (13.113222, -59.598809),\n 'belarus': (53.90454, 27.561524),\n 'belgium': (50.85034, 4.35171),\n 'belize': (17.251011, -88.75902),\n 'benin': (6.496857, 2.628852),\n 'bermuda': (32.294816, -64.781375),\n 'bhutan': (27.472792, 89.639286),\n 'bolivia': (-16.489689, -68.119294),\n 'bosnia and herzegovina': (43.856259, 18.413076),\n 'botswana': (-24.628208, 25.923147),\n 'bouvet island': (-54.43, 3.38),\n 'brazil': (-15.794229, -47.882166),\n 'british indian ocean territory': (21.3419, 55.4778),\n 'british virgin islands': (18.428612, -64.618466),\n 'brunei': (4.903052, 114.939821),\n 'bulgaria': (42.697708, 23.321868),\n 'burkina faso': (12.371428, -1.51966),\n 'burundi': (-3.361378, 29.359878),\n 'cambodia': (11.544873, 104.892167),\n 'cameroon': (3.848033, 11.502075),\n 'canada': (45.42153, -75.697193),\n 'cape verde': (14.93305, -23.513327),\n 'cayman islands': (19.286932, -81.367439),\n 'central african republic': (4.394674, 18.55819),\n 'chad': (12.134846, 15.055742),\n 'chile': (-33.44889, -70.669265),\n 'china': (39.904211, 116.407395),\n 'christmas island': (-10.420686, 105.679379),\n 'cocos (keeling) islands': (-12.188834, 96.829316),\n 'colombia': (4.710989, -74.072092),\n 'comoros': (-11.717216, 43.247315),\n 'congo (drc)': (-4.441931, 15.266293),\n 'congo (republic)': (-4.26336, 15.242885),\n 'cook islands': (-21.212901, -159.782306),\n 'costa rica': (9.928069, -84.090725),\n \"cã´te d'ivoire\": (6.827623, -5.289343),\n 'croatia': (45.815011, 15.981919),\n 'cuba': (23.05407, -82.345189),\n 'curaã§ao': (12.122422, -68.882423),\n 'cyprus': (35.185566, 33.382276),\n 'czech republic': (50.075538, 14.4378),\n 'denmark': (55.676097, 12.568337),\n 'djibouti': (11.572077, 43.145647),\n 'dominica': (15.309168, -61.379355),\n 'dominican republic': (18.486058, -69.931212),\n 'ecuador': (-0.180653, -78.467838),\n 'egypt': (30.04442, 31.235712),\n 'el salvador': (13.69294, -89.218191),\n 'equatorial guinea': (3.750412, 8.737104),\n 'eritrea': (15.322877, 38.925052),\n 'estonia': (59.436961, 24.753575),\n 'ethiopia': (8.980603, 38.757761),\n 'falkland islands (islas malvinas)': (-51.697713, -57.851663),\n 'faroe islands': (62.007864, -6.790982),\n 'fiji': (-18.124809, 178.450079),\n 'finland': (60.173324, 24.941025),\n 'france': (48.856614, 2.352222),\n 'french guiana': (4.92242, -52.313453),\n 'french polynesia': (-17.551625, -149.558476),\n 'french southern territories': (-21.3419, 55.4778),\n 'gabon': (0.416198, 9.467268),\n 'gambia': (13.454876, -16.579032),\n 'georgia': (41.715138, 44.827096),\n 'germany': (52.520007, 13.404954),\n 'ghana': (5.603717, -0.186964),\n 'gibraltar': (36.140773, -5.353599),\n 'greece': (37.983917, 23.72936),\n 'greenland': (64.18141, -51.694138),\n 'grenada': (12.056098, -61.7488),\n 'guadeloupe': (16.014453, -61.706411),\n 'guam': (13.470891, 144.751278),\n 'guatemala': (14.634915, -90.506882),\n 'guernsey': (49.455443, -2.536871),\n 'guinea': (9.641185, -13.578401),\n 'guinea-bissau': (11.881655, -15.617794),\n 'guyana': (6.801279, -58.155125),\n 'haiti': (18.594395, -72.307433),\n 'honduras': (14.072275, -87.192136),\n 'hong kong': (22.396428, 114.109497),\n 'hungary': (47.497912, 19.040235),\n 'iceland': (64.126521, -21.817439),\n 'india': (28.613939, 77.209021),\n 'indonesia': (-6.208763, 106.845599),\n 'iran': (35.689198, 51.388974),\n 'iraq': (33.312806, 44.361488),\n 'ireland': (53.349805, -6.26031),\n 'isle of man': (54.152337, -4.486123),\n 'israel': (32.0853, 34.781768),\n 'italy': (41.902784, 12.496366),\n 'jamaica': (18.042327, -76.802893),\n 'japan': (35.709026, 139.731992),\n 'jersey': (49.186823, -2.106568),\n 'jordan': (31.956578, 35.945695),\n 'kazakhstan': (51.160523, 71.470356),\n 'kenya': (-1.292066, 36.821946),\n 'kiribati': (1.451817, 172.971662),\n 'kosovo': (42.662914, 21.165503),\n 'kuwait': (29.375859, 47.977405),\n 'kyrgyzstan': (42.874621, 74.569762),\n 'laos': (17.975706, 102.633104),\n 'latvia': (56.949649, 24.105186),\n 'lebanon': (33.888629, 35.495479),\n 'lesotho': (-29.363219, 27.51436),\n 'liberia': (6.290743, -10.760524),\n 'libya': (32.887209, 13.191338),\n 'liechtenstein': (47.14103, 9.520928),\n 'lithuania': (54.687156, 25.279651),\n 'luxembourg': (49.611621, 6.131935),\n 'macau': (22.166667, 113.55),\n 'macedonia (fyrom)': (41.997346, 21.427996),\n 'madagascar': (-18.87919, 47.507905),\n 'malawi': (-13.962612, 33.774119),\n 'malaysia': (3.139003, 101.686855),\n 'maldives': (4.175496, 73.509347),\n 'mali': (12.639232, -8.002889),\n 'malta': (35.898909, 14.514553),\n 'marshall islands': (7.116421, 171.185774),\n 'martinique': (14.616065, -61.05878),\n 'mauritania': (18.07353, -15.958237),\n 'mauritius': (-20.166896, 57.502332),\n 'mayotte': (-12.780949, 45.227872),\n 'mexico': (19.432608, -99.133208),\n 'micronesia': (6.914712, 158.161027),\n 'moldova': (47.010453, 28.86381),\n 'monaco': (43.737411, 7.420816),\n 'mongolia': (47.886399, 106.905744),\n 'montenegro': (42.43042, 19.259364),\n 'montserrat': (16.706523, -62.215738),\n 'morocco': (33.97159, -6.849813),\n 'mozambique': (-25.891968, 32.605135),\n 'myanmar (burma)': (19.763306, 96.07851),\n 'nagorno-karabakh republic': (39.826385, 46.763595),\n 'namibia': (-22.560881, 17.065755),\n 'nauru': (-0.546686, 166.921091),\n 'nepal': (27.717245, 85.323961),\n 'netherlands': (52.370216, 4.895168),\n 'netherlands antilles': (12.1091242, -68.9316546),\n 'new caledonia': (-22.255823, 166.450524),\n 'new zealand': (-41.28646, 174.776236),\n 'nicaragua': (12.114993, -86.236174),\n 'niger': (13.511596, 2.125385),\n 'nigeria': (9.076479, 7.398574),\n 'niue': (-19.055371, -169.917871),\n 'norfolk island': (-29.056394, 167.959588),\n 'north korea': (39.039219, 125.762524),\n 'northern cyprus': (35.185566, 33.382276),\n 'northern mariana islands': (15.177801, 145.750967),\n 'norway': (59.913869, 10.752245),\n 'oman': (23.58589, 58.405923),\n 'pakistan': (33.729388, 73.093146),\n 'palau': (7.500384, 134.624289),\n 'palestine': (31.9073509, 35.5354719),\n 'panama': (9.101179, -79.402864),\n 'papua new guinea': (-9.4438, 147.180267),\n 'paraguay': (-25.26374, -57.575926),\n 'peru': (-12.046374, -77.042793),\n 'philippines': (14.599512, 120.98422),\n 'pitcairn islands': (-25.06629, -130.100464),\n 'poland': (52.229676, 21.012229),\n 'portugal': (38.722252, -9.139337),\n 'puerto rico': (18.466334, -66.105722),\n 'qatar': (25.285447, 51.53104),\n 'rã©union': (-20.882057, 55.450675),\n 'romania': (44.426767, 26.102538),\n 'russia': (55.755826, 37.6173),\n 'rwanda': (-1.957875, 30.112735),\n 'saint pierre and miquelon': (46.775846, -56.180636),\n 'saint vincent and the grenadines': (13.160025, -61.224816),\n 'samoa': (-13.850696, -171.751355),\n 'san marino': (43.935591, 12.447281),\n 'sã£o tomã© and prã\\xadncipe': (0.330192, 6.733343),\n 'saudi arabia': (24.749403, 46.902838),\n 'senegal': (14.764504, -17.366029),\n 'serbia': (44.786568, 20.448922),\n 'seychelles': (-4.619143, 55.451315),\n 'sierra leone': (8.465677, -13.231722),\n 'singapore': (1.280095, 103.850949),\n 'slovakia': (48.145892, 17.107137),\n 'slovenia': (46.056947, 14.505751),\n 'solomon islands': (-9.445638, 159.9729),\n 'somalia': (2.046934, 45.318162),\n 'south africa': (-25.747868, 28.229271),\n 'south georgia and the south sandwich islands': (-54.28325, -36.493735),\n 'south korea': (37.566535, 126.977969),\n 'south ossetia': (42.22146, 43.964405),\n 'south sudan': (4.859363, 31.57125),\n 'spain': (40.416775, -3.70379),\n 'sri lanka': (6.89407, 79.902478),\n 'st. barthã©lemy': (17.896435, -62.852201),\n 'st. kitts and nevis': (17.302606, -62.717692),\n 'st. lucia': (14.010109, -60.987469),\n 'st. martin': (18.067519, -63.082466),\n 'sudan': (15.500654, 32.559899),\n 'suriname': (5.852036, -55.203828),\n 'svalbard and jan mayen': (78.062, 22.055),\n 'swaziland': (-26.305448, 31.136672),\n 'sweden': (59.329323, 18.068581),\n 'switzerland': (46.947974, 7.447447),\n 'syria': (33.513807, 36.276528),\n 'taiwan': (25.032969, 121.565418),\n 'tajikistan': (38.559772, 68.787038),\n 'tanzania': (-6.162959, 35.751607),\n 'thailand': (13.756331, 100.501765),\n 'timor-leste': (-8.556856, 125.560314),\n 'togo': (6.172497, 1.231362),\n 'tokelau': (-9.2005, -171.848),\n 'tonga': (-21.139342, -175.204947),\n 'transnistria': (46.848185, 29.596805),\n 'trinidad and tobago': (10.654901, -61.501926),\n 'tristan da cunha': (-37.068042, -12.311315),\n 'tunisia': (36.806495, 10.181532),\n 'turkey': (39.933364, 32.859742),\n 'turkmenistan': (37.960077, 58.326063),\n 'turks and caicos islands': (21.467458, -71.13891),\n 'tuvalu': (-8.520066, 179.198128),\n 'u.s. virgin islands': (18.3419, -64.930701),\n 'uganda': (0.347596, 32.58252),\n 'ukraine': (50.4501, 30.5234),\n 'united arab emirates': (24.299174, 54.697277),\n 'united kingdom': (51.507351, -0.127758),\n 'united states': (38.907192, -77.036871),\n 'uruguay': (-34.901113, -56.164531),\n 'uzbekistan': (41.299496, 69.240073),\n 'vanuatu': (-17.733251, 168.327325),\n 'vatican city': (41.902179, 12.453601),\n 'venezuela': (10.480594, -66.903606),\n 'vietnam': (21.027764, 105.83416),\n 'wallis and futuna': (-13.282509, -176.176447),\n 'western sahara': (27.125287, -13.1625),\n 'yemen': (15.369445, 44.191007),\n 'zambia': (-15.387526, 28.322817),\n 'zimbabwe': (-17.825166, 31.03351)}"
     },
     "execution_count": 181,
     "metadata": {},
     "output_type": "execute_result"
    }
   ],
   "source": [
    "# Coordinates of all the capital cities in teh world\n",
    "coords = {}\n",
    "\n",
    "os.chdir(main_path)\n",
    "with open(\"CountryCoords.txt\", \"r\") as f:\n",
    "    lines = f.readlines()\n",
    "    for line in lines:\n",
    "        line = line.split(\",\")\n",
    "        coords[line[0].lower()]=(float(line[2].strip()),float(line[3].strip()))\n",
    "\n",
    "coords"
   ],
   "metadata": {
    "collapsed": false
   }
  },
  {
   "cell_type": "code",
   "execution_count": 182,
   "outputs": [],
   "source": [
    "# Custom scoring function\n",
    "def myscore(x, coords, country):\n",
    "\n",
    "    os.chdir(main_path)\n",
    "    os.chdir(path)\n",
    "\n",
    "    sum_nearby=0\n",
    "    cos_sim = x[0]\n",
    "    with open(x[1], 'r', encoding='utf-8') as f:\n",
    "        try:\n",
    "            a = f.read()\n",
    "            a = re.split(r'\\t+', a)\n",
    "            lat, lon = float(a[8]), float(a[9])\n",
    "            nearby = eval(a[6])\n",
    "            if isinstance(nearby, list):\n",
    "                for el in nearby:\n",
    "                    sum_nearby+=sim_names[el]\n",
    "            hav = haversine(coords[country], (lat, lon))\n",
    "        except:\n",
    "            return 0\n",
    "\n",
    "    return cos_sim*(hav/max_haversine)*(0.5 + sum_nearby/(2*max_nearby_places))"
   ],
   "metadata": {
    "collapsed": false
   }
  },
  {
   "cell_type": "code",
   "execution_count": 183,
   "outputs": [],
   "source": [
    "custom_scores = [(myscore(x, coords, country.lower()), x[1]) for x in important_pairs_new]"
   ],
   "metadata": {
    "collapsed": false
   }
  },
  {
   "cell_type": "code",
   "execution_count": 184,
   "outputs": [],
   "source": [
    "# Heap for top-k documents\n",
    "heap, k = [], 20\n",
    "heapq.heapify(heap)\n",
    "\n",
    "for el in custom_scores:\n",
    "    heapq.heappush(heap,el)\n",
    "    if len(heap)>k:\n",
    "        heapq.heappop(heap)"
   ],
   "metadata": {
    "collapsed": false
   }
  },
  {
   "cell_type": "code",
   "execution_count": 185,
   "outputs": [],
   "source": [
    "result = pd.DataFrame(columns = ['Title', 'Description', 'URL', \"MyScore\"])\n",
    "os.chdir(main_path)\n",
    "os.chdir(path)\n",
    "top_k = []\n",
    "for i in range(k):\n",
    "    top_k.append(pair[1])\n",
    "    pair = heapq.heappop(heap)\n",
    "    f = open(pair[1], \"r\", encoding=\"utf8\")\n",
    "    a = f.read()\n",
    "    a = re.split(r'\\t', a)\n",
    "    result = result.append({'Title': a[0].strip(),'Description': a[4], 'URL': a[14].strip(), 'MyScore': pair[0]}, ignore_index=True).sort_values(by=\"MyScore\", ascending=False)\n",
    "    f.close()"
   ],
   "metadata": {
    "collapsed": false
   }
  },
  {
   "cell_type": "code",
   "execution_count": 186,
   "outputs": [
    {
     "data": {
      "text/plain": "                                  Title  \\\n19            Museum of Russian Culture   \n0                     Museum of the Eye   \n1   Batalion Comic Book Museum and Club   \n2                        Pianola Museum   \n3                            TinkerTown   \n4                  Crazy Horse Memorial   \n5              Glore Psychiatric Museum   \n6        National Atomic Testing Museum   \n7            Buckhorn Saloon and Museum   \n8                  Milwaukee Art Museum   \n9                 American Banjo Museum   \n10                     Museum of Whimsy   \n11                Metropolitan Pit Stop   \n12              American Writers Museum   \n13              Jesse James Home Museum   \n14             Hitler's Olympic Village   \n15                American Space Museum   \n16              Philbrook Museum of Art   \n17         Mammoth Cave Wildlife Museum   \n18   Isaac Hayes's Gold-Plated Cadillac   \n\n                                          Description  \\\n19  When you think San Francisco, you probably don...   \n0   How do you see the world? Find out at the Muse...   \n1   Walking into Prague’sBatalion Comic Book Museu...   \n2   In a city chock-a-block with museums, one of t...   \n3   Ross Ward began carving wood in junior high sc...   \n4   When the carving of Mount Rushmore began in 19...   \n5   Located in St. Joseph, Missouri, the Glore Psy...   \n6   Las Vegas is an oasis in the desert where no o...   \n7   Drink a beer whilst you admire stuffed cougars...   \n8   Like the Guggenheim in New York and the Oaklan...   \n9   Containing more instruments on public display ...   \n10  Spread across two floors of a regal old 1920s ...   \n11  Metropolitan Pit Stop was founded by Jimmy Val...   \n12  The American Writers Museum—tucked away on the...   \n13  This simple Missouri home went down in America...   \n14  Little known to most tourists and even Germans...   \n15  This small space museum,located not far from t...   \n16  With its rich collection of historic and conte...   \n17  Cave City is a wonderland of kitschy tourist t...   \n18  Stax Museum of American Soul Music celebrates ...   \n\n                                                  URL   MyScore  \n19  https://www.atlasobscura.com/places/museum-of-...  0.016274  \n0   https://www.atlasobscura.com/places/museum-oph...  0.015561  \n1   https://www.atlasobscura.com/places/batalion-c...  0.013009  \n2   https://www.atlasobscura.com/places/pianola-mu...  0.012340  \n3      https://www.atlasobscura.com/places/tinkertown  0.009245  \n4   https://www.atlasobscura.com/places/crazy-hors...  0.008001  \n5   https://www.atlasobscura.com/places/glore-psyc...  0.007826  \n6   https://www.atlasobscura.com/places/national-a...  0.007043  \n7   https://www.atlasobscura.com/places/buckhorn-s...  0.006922  \n8   https://www.atlasobscura.com/places/milwaukee-...  0.005839  \n9   https://www.atlasobscura.com/places/american-b...  0.005767  \n10  https://www.atlasobscura.com/places/museum-of-...  0.005679  \n11  https://www.atlasobscura.com/places/metropolit...  0.005469  \n12  https://www.atlasobscura.com/places/american-w...  0.005334  \n13  https://www.atlasobscura.com/places/jesse-jame...  0.004980  \n14  https://www.atlasobscura.com/places/hitler-s-o...  0.004736  \n15  https://www.atlasobscura.com/places/american-s...  0.004434  \n16  https://www.atlasobscura.com/places/philbrook-...  0.004185  \n17  https://www.atlasobscura.com/places/mammoth-ca...  0.003989  \n18  https://www.atlasobscura.com/places/isaac-haye...  0.003828  ",
      "text/html": "<div>\n<style scoped>\n    .dataframe tbody tr th:only-of-type {\n        vertical-align: middle;\n    }\n\n    .dataframe tbody tr th {\n        vertical-align: top;\n    }\n\n    .dataframe thead th {\n        text-align: right;\n    }\n</style>\n<table border=\"1\" class=\"dataframe\">\n  <thead>\n    <tr style=\"text-align: right;\">\n      <th></th>\n      <th>Title</th>\n      <th>Description</th>\n      <th>URL</th>\n      <th>MyScore</th>\n    </tr>\n  </thead>\n  <tbody>\n    <tr>\n      <th>19</th>\n      <td>Museum of Russian Culture</td>\n      <td>When you think San Francisco, you probably don...</td>\n      <td>https://www.atlasobscura.com/places/museum-of-...</td>\n      <td>0.016274</td>\n    </tr>\n    <tr>\n      <th>0</th>\n      <td>Museum of the Eye</td>\n      <td>How do you see the world? Find out at the Muse...</td>\n      <td>https://www.atlasobscura.com/places/museum-oph...</td>\n      <td>0.015561</td>\n    </tr>\n    <tr>\n      <th>1</th>\n      <td>Batalion Comic Book Museum and Club</td>\n      <td>Walking into Prague’sBatalion Comic Book Museu...</td>\n      <td>https://www.atlasobscura.com/places/batalion-c...</td>\n      <td>0.013009</td>\n    </tr>\n    <tr>\n      <th>2</th>\n      <td>Pianola Museum</td>\n      <td>In a city chock-a-block with museums, one of t...</td>\n      <td>https://www.atlasobscura.com/places/pianola-mu...</td>\n      <td>0.012340</td>\n    </tr>\n    <tr>\n      <th>3</th>\n      <td>TinkerTown</td>\n      <td>Ross Ward began carving wood in junior high sc...</td>\n      <td>https://www.atlasobscura.com/places/tinkertown</td>\n      <td>0.009245</td>\n    </tr>\n    <tr>\n      <th>4</th>\n      <td>Crazy Horse Memorial</td>\n      <td>When the carving of Mount Rushmore began in 19...</td>\n      <td>https://www.atlasobscura.com/places/crazy-hors...</td>\n      <td>0.008001</td>\n    </tr>\n    <tr>\n      <th>5</th>\n      <td>Glore Psychiatric Museum</td>\n      <td>Located in St. Joseph, Missouri, the Glore Psy...</td>\n      <td>https://www.atlasobscura.com/places/glore-psyc...</td>\n      <td>0.007826</td>\n    </tr>\n    <tr>\n      <th>6</th>\n      <td>National Atomic Testing Museum</td>\n      <td>Las Vegas is an oasis in the desert where no o...</td>\n      <td>https://www.atlasobscura.com/places/national-a...</td>\n      <td>0.007043</td>\n    </tr>\n    <tr>\n      <th>7</th>\n      <td>Buckhorn Saloon and Museum</td>\n      <td>Drink a beer whilst you admire stuffed cougars...</td>\n      <td>https://www.atlasobscura.com/places/buckhorn-s...</td>\n      <td>0.006922</td>\n    </tr>\n    <tr>\n      <th>8</th>\n      <td>Milwaukee Art Museum</td>\n      <td>Like the Guggenheim in New York and the Oaklan...</td>\n      <td>https://www.atlasobscura.com/places/milwaukee-...</td>\n      <td>0.005839</td>\n    </tr>\n    <tr>\n      <th>9</th>\n      <td>American Banjo Museum</td>\n      <td>Containing more instruments on public display ...</td>\n      <td>https://www.atlasobscura.com/places/american-b...</td>\n      <td>0.005767</td>\n    </tr>\n    <tr>\n      <th>10</th>\n      <td>Museum of Whimsy</td>\n      <td>Spread across two floors of a regal old 1920s ...</td>\n      <td>https://www.atlasobscura.com/places/museum-of-...</td>\n      <td>0.005679</td>\n    </tr>\n    <tr>\n      <th>11</th>\n      <td>Metropolitan Pit Stop</td>\n      <td>Metropolitan Pit Stop was founded by Jimmy Val...</td>\n      <td>https://www.atlasobscura.com/places/metropolit...</td>\n      <td>0.005469</td>\n    </tr>\n    <tr>\n      <th>12</th>\n      <td>American Writers Museum</td>\n      <td>The American Writers Museum—tucked away on the...</td>\n      <td>https://www.atlasobscura.com/places/american-w...</td>\n      <td>0.005334</td>\n    </tr>\n    <tr>\n      <th>13</th>\n      <td>Jesse James Home Museum</td>\n      <td>This simple Missouri home went down in America...</td>\n      <td>https://www.atlasobscura.com/places/jesse-jame...</td>\n      <td>0.004980</td>\n    </tr>\n    <tr>\n      <th>14</th>\n      <td>Hitler's Olympic Village</td>\n      <td>Little known to most tourists and even Germans...</td>\n      <td>https://www.atlasobscura.com/places/hitler-s-o...</td>\n      <td>0.004736</td>\n    </tr>\n    <tr>\n      <th>15</th>\n      <td>American Space Museum</td>\n      <td>This small space museum,located not far from t...</td>\n      <td>https://www.atlasobscura.com/places/american-s...</td>\n      <td>0.004434</td>\n    </tr>\n    <tr>\n      <th>16</th>\n      <td>Philbrook Museum of Art</td>\n      <td>With its rich collection of historic and conte...</td>\n      <td>https://www.atlasobscura.com/places/philbrook-...</td>\n      <td>0.004185</td>\n    </tr>\n    <tr>\n      <th>17</th>\n      <td>Mammoth Cave Wildlife Museum</td>\n      <td>Cave City is a wonderland of kitschy tourist t...</td>\n      <td>https://www.atlasobscura.com/places/mammoth-ca...</td>\n      <td>0.003989</td>\n    </tr>\n    <tr>\n      <th>18</th>\n      <td>Isaac Hayes's Gold-Plated Cadillac</td>\n      <td>Stax Museum of American Soul Music celebrates ...</td>\n      <td>https://www.atlasobscura.com/places/isaac-haye...</td>\n      <td>0.003828</td>\n    </tr>\n  </tbody>\n</table>\n</div>"
     },
     "execution_count": 186,
     "metadata": {},
     "output_type": "execute_result"
    }
   ],
   "source": [
    "result"
   ],
   "metadata": {
    "collapsed": false
   }
  },
  {
   "cell_type": "markdown",
   "source": [
    "The results of the custom search engine are *quite different* from the ones of th purely **cosine similarity** based one, taking into account significantly the country choice made by the user. A *hyperparameter* to balance the weight of each metric in the scoring function could be introduced in order to fine-tune the behaviour of the new system."
   ],
   "metadata": {
    "collapsed": false
   }
  },
  {
   "cell_type": "markdown",
   "source": [
    "# 4. Visualizing the most relevant places"
   ],
   "metadata": {
    "collapsed": false
   }
  },
  {
   "cell_type": "code",
   "execution_count": 220,
   "outputs": [],
   "source": [
    "def plot_map(top_k, country):\n",
    "    data = []\n",
    "    map = folium.Map(coords[country.lower()], zoom_start=5, height=\"50%\", max_bounds=True, control_scale=True)\n",
    "\n",
    "    os.chdir(main_path)\n",
    "    for i in top_k:\n",
    "        with open(i, \"r\", encoding=\"utf8\") as f:\n",
    "            a = f.read()\n",
    "            a = re.split(r'\\t', a)\n",
    "            name = a[0]\n",
    "            temp = a[7].split(\"-\")\n",
    "            city = temp[-2].strip().split(\",\")[0].strip()\n",
    "            country = temp[-1].strip()\n",
    "            address = \"-\".join(temp[:-2]).strip()\n",
    "            ppl = a[2]\n",
    "            lat, lon = float(a[8]), float(a[9])\n",
    "\n",
    "            html = '''<style type=\"text/css\">\n",
    "            .tg  {border-collapse:collapse;border-spacing:0;margin:0px auto;}\n",
    "            .tg td{border-color:black;border-style:solid;border-width:1px;font-family:Arial, sans-serif;font-size:14px;\n",
    "              overflow:hidden;padding:10px 5px;word-break:normal;}\n",
    "            .tg th{border-color:black;border-style:solid;border-width:1px;font-family:Arial, sans-serif;font-size:14px;\n",
    "              font-weight:normal;overflow:hidden;padding:10px 5px;word-break:normal;}\n",
    "            .tg .tg-3aoq{border-color:inherit;font-family:\"Comic Sans MS\", cursive, sans-serif !important;font-weight:bold;text-align:center;\n",
    "              vertical-align:top}\n",
    "            .tg .tg-am6h{border-color:inherit;font-family:\"Comic Sans MS\", cursive, sans-serif !important;text-align:center;vertical-align:top}\n",
    "            </style>\n",
    "            <head>''' + ''' <center><h3 style='font-family:\"Comic Sans MS\", cursive, sans-serif !important'>{}</h3>'''.format(name) + '''</center> </head>\n",
    "            <table class=\"tg\">\n",
    "            <tbody>\n",
    "              <tr>\n",
    "                <td class=\"tg-3aoq\">City</td>\n",
    "                <td class=\"tg-am6h\">{}</td>\n",
    "              </tr>\n",
    "              <tr>\n",
    "                <td class=\"tg-3aoq\">Country</td>\n",
    "                <td class=\"tg-am6h\">{}</td>\n",
    "              </tr>\n",
    "              <tr>\n",
    "                <td class=\"tg-3aoq\">Address</td>\n",
    "                <td class=\"tg-am6h\">{}</td>\n",
    "              </tr>\n",
    "              <tr>\n",
    "                <td class=\"tg-3aoq\">People<br>been here</td>\n",
    "                <td class=\"tg-am6h\">{}</td>\n",
    "              </tr>\n",
    "            </tbody>\n",
    "            </table>'''.format(city, country, address, ppl)\n",
    "            popup = folium.Popup(folium.Html(html, script=True), max_width=500)\n",
    "            folium.Marker(location=[lat, lon], icon=folium.Icon(color=\"orange\", icon=\"info-sign\"), tooltip=name, popup=popup).add_to(map)\n",
    "    return map"
   ],
   "metadata": {
    "collapsed": false
   }
  },
  {
   "cell_type": "code",
   "execution_count": 221,
   "outputs": [
    {
     "data": {
      "text/plain": "<folium.folium.Map at 0x283e8faa5b0>",
      "text/html": "<div style=\"width:100%;\"><div style=\"position:relative;width:100%;height:0;padding-bottom:60%;\"><span style=\"color:#565656\">Make this Notebook Trusted to load map: File -> Trust Notebook</span><iframe srcdoc=\"&lt;!DOCTYPE html&gt;\n&lt;head&gt;    \n    &lt;meta http-equiv=&quot;content-type&quot; content=&quot;text/html; charset=UTF-8&quot; /&gt;\n    \n        &lt;script&gt;\n            L_NO_TOUCH = false;\n            L_DISABLE_3D = false;\n        &lt;/script&gt;\n    \n    &lt;style&gt;html, body {width: 100%;height: 100%;margin: 0;padding: 0;}&lt;/style&gt;\n    &lt;style&gt;#map {position:absolute;top:0;bottom:0;right:0;left:0;}&lt;/style&gt;\n    &lt;script src=&quot;https://cdn.jsdelivr.net/npm/leaflet@1.6.0/dist/leaflet.js&quot;&gt;&lt;/script&gt;\n    &lt;script src=&quot;https://code.jquery.com/jquery-1.12.4.min.js&quot;&gt;&lt;/script&gt;\n    &lt;script src=&quot;https://maxcdn.bootstrapcdn.com/bootstrap/3.2.0/js/bootstrap.min.js&quot;&gt;&lt;/script&gt;\n    &lt;script src=&quot;https://cdnjs.cloudflare.com/ajax/libs/Leaflet.awesome-markers/2.0.2/leaflet.awesome-markers.js&quot;&gt;&lt;/script&gt;\n    &lt;link rel=&quot;stylesheet&quot; href=&quot;https://cdn.jsdelivr.net/npm/leaflet@1.6.0/dist/leaflet.css&quot;/&gt;\n    &lt;link rel=&quot;stylesheet&quot; href=&quot;https://maxcdn.bootstrapcdn.com/bootstrap/3.2.0/css/bootstrap.min.css&quot;/&gt;\n    &lt;link rel=&quot;stylesheet&quot; href=&quot;https://maxcdn.bootstrapcdn.com/bootstrap/3.2.0/css/bootstrap-theme.min.css&quot;/&gt;\n    &lt;link rel=&quot;stylesheet&quot; href=&quot;https://maxcdn.bootstrapcdn.com/font-awesome/4.6.3/css/font-awesome.min.css&quot;/&gt;\n    &lt;link rel=&quot;stylesheet&quot; href=&quot;https://cdnjs.cloudflare.com/ajax/libs/Leaflet.awesome-markers/2.0.2/leaflet.awesome-markers.css&quot;/&gt;\n    &lt;link rel=&quot;stylesheet&quot; href=&quot;https://cdn.jsdelivr.net/gh/python-visualization/folium/folium/templates/leaflet.awesome.rotate.min.css&quot;/&gt;\n    \n            &lt;meta name=&quot;viewport&quot; content=&quot;width=device-width,\n                initial-scale=1.0, maximum-scale=1.0, user-scalable=no&quot; /&gt;\n            &lt;style&gt;\n                #map_7f2a8b30b792bbc4f1617fc07f9d8105 {\n                    position: relative;\n                    width: 100.0%;\n                    height: 50.0%;\n                    left: 0.0%;\n                    top: 0.0%;\n                }\n            &lt;/style&gt;\n        \n&lt;/head&gt;\n&lt;body&gt;    \n    \n            &lt;div class=&quot;folium-map&quot; id=&quot;map_7f2a8b30b792bbc4f1617fc07f9d8105&quot; &gt;&lt;/div&gt;\n        \n&lt;/body&gt;\n&lt;script&gt;    \n    \n            var map_7f2a8b30b792bbc4f1617fc07f9d8105 = L.map(\n                &quot;map_7f2a8b30b792bbc4f1617fc07f9d8105&quot;,\n                {\n                    center: [38.907192, -77.036871],\n                    crs: L.CRS.EPSG3857,\n                    maxBounds: [[-90, -180], [90, 180]],\n                    zoom: 5,\n                    zoomControl: true,\n                    preferCanvas: false,\n                }\n            );\n            L.control.scale().addTo(map_7f2a8b30b792bbc4f1617fc07f9d8105);\n\n            \n\n        \n    \n            var tile_layer_490fdf20f2c7184b1112aa974f557fd2 = L.tileLayer(\n                &quot;https://{s}.tile.openstreetmap.org/{z}/{x}/{y}.png&quot;,\n                {&quot;attribution&quot;: &quot;Data by \\u0026copy; \\u003ca href=\\&quot;http://openstreetmap.org\\&quot;\\u003eOpenStreetMap\\u003c/a\\u003e, under \\u003ca href=\\&quot;http://www.openstreetmap.org/copyright\\&quot;\\u003eODbL\\u003c/a\\u003e.&quot;, &quot;detectRetina&quot;: false, &quot;maxNativeZoom&quot;: 18, &quot;maxZoom&quot;: 18, &quot;minZoom&quot;: 0, &quot;noWrap&quot;: false, &quot;opacity&quot;: 1, &quot;subdomains&quot;: &quot;abc&quot;, &quot;tms&quot;: false}\n            ).addTo(map_7f2a8b30b792bbc4f1617fc07f9d8105);\n        \n    \n            var marker_804657f423c4b87c119d6d03da0fa0e0 = L.marker(\n                [51.441, -0.061],\n                {}\n            ).addTo(map_7f2a8b30b792bbc4f1617fc07f9d8105);\n        \n    \n            var icon_72cb706a9e552be52c5e302542f21c4c = L.AwesomeMarkers.icon(\n                {&quot;extraClasses&quot;: &quot;fa-rotate-0&quot;, &quot;icon&quot;: &quot;info-sign&quot;, &quot;iconColor&quot;: &quot;white&quot;, &quot;markerColor&quot;: &quot;orange&quot;, &quot;prefix&quot;: &quot;glyphicon&quot;}\n            );\n            marker_804657f423c4b87c119d6d03da0fa0e0.setIcon(icon_72cb706a9e552be52c5e302542f21c4c);\n        \n    \n        var popup_c8d23bccfa5358f4618c79651db5c218 = L.popup({&quot;maxWidth&quot;: 500});\n\n        \n            var html_57124f1e5a0456e8c3bcd2e8f437c74d = $(`&lt;div id=&quot;html_57124f1e5a0456e8c3bcd2e8f437c74d&quot; style=&quot;width: 100.0%; height: 100.0%;&quot;&gt;&lt;style type=&quot;text/css&quot;&gt;             .tg  {border-collapse:collapse;border-spacing:0;margin:0px auto;}             .tg td{border-color:black;border-style:solid;border-width:1px;font-family:Arial, sans-serif;font-size:14px;               overflow:hidden;padding:10px 5px;word-break:normal;}             .tg th{border-color:black;border-style:solid;border-width:1px;font-family:Arial, sans-serif;font-size:14px;               font-weight:normal;overflow:hidden;padding:10px 5px;word-break:normal;}             .tg .tg-3aoq{border-color:inherit;font-family:&quot;Comic Sans MS&quot;, cursive, sans-serif !important;font-weight:bold;text-align:center;               vertical-align:top}             .tg .tg-am6h{border-color:inherit;font-family:&quot;Comic Sans MS&quot;, cursive, sans-serif !important;text-align:center;vertical-align:top}             &lt;/style&gt;             &lt;head&gt; &lt;center&gt;&lt;h3 style=&#x27;font-family:&quot;Comic Sans MS&quot;, cursive, sans-serif !important&#x27;&gt;Horniman Museum and Gardens&lt;/h3&gt;&lt;/center&gt; &lt;/head&gt;             &lt;table class=&quot;tg&quot;&gt;             &lt;tbody&gt;               &lt;tr&gt;                 &lt;td class=&quot;tg-3aoq&quot;&gt;City&lt;/td&gt;                 &lt;td class=&quot;tg-am6h&quot;&gt;London&lt;/td&gt;               &lt;/tr&gt;               &lt;tr&gt;                 &lt;td class=&quot;tg-3aoq&quot;&gt;Country&lt;/td&gt;                 &lt;td class=&quot;tg-am6h&quot;&gt;United Kingdom&lt;/td&gt;               &lt;/tr&gt;               &lt;tr&gt;                 &lt;td class=&quot;tg-3aoq&quot;&gt;Address&lt;/td&gt;                 &lt;td class=&quot;tg-am6h&quot;&gt;100 London Rd - Forest Hill&lt;/td&gt;               &lt;/tr&gt;               &lt;tr&gt;                 &lt;td class=&quot;tg-3aoq&quot;&gt;People&lt;br&gt;been here&lt;/td&gt;                 &lt;td class=&quot;tg-am6h&quot;&gt;744&lt;/td&gt;               &lt;/tr&gt;             &lt;/tbody&gt;             &lt;/table&gt;&lt;/div&gt;`)[0];\n            popup_c8d23bccfa5358f4618c79651db5c218.setContent(html_57124f1e5a0456e8c3bcd2e8f437c74d);\n        \n\n        marker_804657f423c4b87c119d6d03da0fa0e0.bindPopup(popup_c8d23bccfa5358f4618c79651db5c218)\n        ;\n\n        \n    \n    \n            marker_804657f423c4b87c119d6d03da0fa0e0.bindTooltip(\n                `&lt;div&gt;\n                     Horniman Museum and Gardens\n                 &lt;/div&gt;`,\n                {&quot;sticky&quot;: true}\n            );\n        \n    \n            var marker_04a6a5d34383573207e464f5a6f964ef = L.marker(\n                [35.1156, -90.0313],\n                {}\n            ).addTo(map_7f2a8b30b792bbc4f1617fc07f9d8105);\n        \n    \n            var icon_e22b65630f002a96c7644be57e9a22c8 = L.AwesomeMarkers.icon(\n                {&quot;extraClasses&quot;: &quot;fa-rotate-0&quot;, &quot;icon&quot;: &quot;info-sign&quot;, &quot;iconColor&quot;: &quot;white&quot;, &quot;markerColor&quot;: &quot;orange&quot;, &quot;prefix&quot;: &quot;glyphicon&quot;}\n            );\n            marker_04a6a5d34383573207e464f5a6f964ef.setIcon(icon_e22b65630f002a96c7644be57e9a22c8);\n        \n    \n        var popup_b5ab9ec462708e33ea3e6ace8f850252 = L.popup({&quot;maxWidth&quot;: 500});\n\n        \n            var html_81d8fa90d35b0011514d79cad82a179f = $(`&lt;div id=&quot;html_81d8fa90d35b0011514d79cad82a179f&quot; style=&quot;width: 100.0%; height: 100.0%;&quot;&gt;&lt;style type=&quot;text/css&quot;&gt;             .tg  {border-collapse:collapse;border-spacing:0;margin:0px auto;}             .tg td{border-color:black;border-style:solid;border-width:1px;font-family:Arial, sans-serif;font-size:14px;               overflow:hidden;padding:10px 5px;word-break:normal;}             .tg th{border-color:black;border-style:solid;border-width:1px;font-family:Arial, sans-serif;font-size:14px;               font-weight:normal;overflow:hidden;padding:10px 5px;word-break:normal;}             .tg .tg-3aoq{border-color:inherit;font-family:&quot;Comic Sans MS&quot;, cursive, sans-serif !important;font-weight:bold;text-align:center;               vertical-align:top}             .tg .tg-am6h{border-color:inherit;font-family:&quot;Comic Sans MS&quot;, cursive, sans-serif !important;text-align:center;vertical-align:top}             &lt;/style&gt;             &lt;head&gt; &lt;center&gt;&lt;h3 style=&#x27;font-family:&quot;Comic Sans MS&quot;, cursive, sans-serif !important&#x27;&gt;Isaac Hayes&#x27;s Gold-Plated Cadillac&lt;/h3&gt;&lt;/center&gt; &lt;/head&gt;             &lt;table class=&quot;tg&quot;&gt;             &lt;tbody&gt;               &lt;tr&gt;                 &lt;td class=&quot;tg-3aoq&quot;&gt;City&lt;/td&gt;                 &lt;td class=&quot;tg-am6h&quot;&gt;Memphis&lt;/td&gt;               &lt;/tr&gt;               &lt;tr&gt;                 &lt;td class=&quot;tg-3aoq&quot;&gt;Country&lt;/td&gt;                 &lt;td class=&quot;tg-am6h&quot;&gt;United States&lt;/td&gt;               &lt;/tr&gt;               &lt;tr&gt;                 &lt;td class=&quot;tg-3aoq&quot;&gt;Address&lt;/td&gt;                 &lt;td class=&quot;tg-am6h&quot;&gt;Stax Museum of American Soul Music - 926 E McLemore Avenue&lt;/td&gt;               &lt;/tr&gt;               &lt;tr&gt;                 &lt;td class=&quot;tg-3aoq&quot;&gt;People&lt;br&gt;been here&lt;/td&gt;                 &lt;td class=&quot;tg-am6h&quot;&gt;316&lt;/td&gt;               &lt;/tr&gt;             &lt;/tbody&gt;             &lt;/table&gt;&lt;/div&gt;`)[0];\n            popup_b5ab9ec462708e33ea3e6ace8f850252.setContent(html_81d8fa90d35b0011514d79cad82a179f);\n        \n\n        marker_04a6a5d34383573207e464f5a6f964ef.bindPopup(popup_b5ab9ec462708e33ea3e6ace8f850252)\n        ;\n\n        \n    \n    \n            marker_04a6a5d34383573207e464f5a6f964ef.bindTooltip(\n                `&lt;div&gt;\n                     Isaac Hayes&#x27;s Gold-Plated Cadillac\n                 &lt;/div&gt;`,\n                {&quot;sticky&quot;: true}\n            );\n        \n    \n            var marker_d5f232b37255e591edfe1925ef1c08a7 = L.marker(\n                [37.1269, -85.9612],\n                {}\n            ).addTo(map_7f2a8b30b792bbc4f1617fc07f9d8105);\n        \n    \n            var icon_65856a2f651b428ab5511eedaabd6a1c = L.AwesomeMarkers.icon(\n                {&quot;extraClasses&quot;: &quot;fa-rotate-0&quot;, &quot;icon&quot;: &quot;info-sign&quot;, &quot;iconColor&quot;: &quot;white&quot;, &quot;markerColor&quot;: &quot;orange&quot;, &quot;prefix&quot;: &quot;glyphicon&quot;}\n            );\n            marker_d5f232b37255e591edfe1925ef1c08a7.setIcon(icon_65856a2f651b428ab5511eedaabd6a1c);\n        \n    \n        var popup_30d10e0b04d2fddc4784a93e124e5e4f = L.popup({&quot;maxWidth&quot;: 500});\n\n        \n            var html_da870d3469fea80f47d1f1a843e4fccc = $(`&lt;div id=&quot;html_da870d3469fea80f47d1f1a843e4fccc&quot; style=&quot;width: 100.0%; height: 100.0%;&quot;&gt;&lt;style type=&quot;text/css&quot;&gt;             .tg  {border-collapse:collapse;border-spacing:0;margin:0px auto;}             .tg td{border-color:black;border-style:solid;border-width:1px;font-family:Arial, sans-serif;font-size:14px;               overflow:hidden;padding:10px 5px;word-break:normal;}             .tg th{border-color:black;border-style:solid;border-width:1px;font-family:Arial, sans-serif;font-size:14px;               font-weight:normal;overflow:hidden;padding:10px 5px;word-break:normal;}             .tg .tg-3aoq{border-color:inherit;font-family:&quot;Comic Sans MS&quot;, cursive, sans-serif !important;font-weight:bold;text-align:center;               vertical-align:top}             .tg .tg-am6h{border-color:inherit;font-family:&quot;Comic Sans MS&quot;, cursive, sans-serif !important;text-align:center;vertical-align:top}             &lt;/style&gt;             &lt;head&gt; &lt;center&gt;&lt;h3 style=&#x27;font-family:&quot;Comic Sans MS&quot;, cursive, sans-serif !important&#x27;&gt;Mammoth Cave Wildlife Museum&lt;/h3&gt;&lt;/center&gt; &lt;/head&gt;             &lt;table class=&quot;tg&quot;&gt;             &lt;tbody&gt;               &lt;tr&gt;                 &lt;td class=&quot;tg-3aoq&quot;&gt;City&lt;/td&gt;                 &lt;td class=&quot;tg-am6h&quot;&gt;Cave City&lt;/td&gt;               &lt;/tr&gt;               &lt;tr&gt;                 &lt;td class=&quot;tg-3aoq&quot;&gt;Country&lt;/td&gt;                 &lt;td class=&quot;tg-am6h&quot;&gt;United States&lt;/td&gt;               &lt;/tr&gt;               &lt;tr&gt;                 &lt;td class=&quot;tg-3aoq&quot;&gt;Address&lt;/td&gt;                 &lt;td class=&quot;tg-am6h&quot;&gt;409 E Happy Valley St&lt;/td&gt;               &lt;/tr&gt;               &lt;tr&gt;                 &lt;td class=&quot;tg-3aoq&quot;&gt;People&lt;br&gt;been here&lt;/td&gt;                 &lt;td class=&quot;tg-am6h&quot;&gt;170&lt;/td&gt;               &lt;/tr&gt;             &lt;/tbody&gt;             &lt;/table&gt;&lt;/div&gt;`)[0];\n            popup_30d10e0b04d2fddc4784a93e124e5e4f.setContent(html_da870d3469fea80f47d1f1a843e4fccc);\n        \n\n        marker_d5f232b37255e591edfe1925ef1c08a7.bindPopup(popup_30d10e0b04d2fddc4784a93e124e5e4f)\n        ;\n\n        \n    \n    \n            marker_d5f232b37255e591edfe1925ef1c08a7.bindTooltip(\n                `&lt;div&gt;\n                     Mammoth Cave Wildlife Museum\n                 &lt;/div&gt;`,\n                {&quot;sticky&quot;: true}\n            );\n        \n    \n            var marker_e454d98e9ef17e5ac85ad7184e4e07a4 = L.marker(\n                [36.1242, -95.9701],\n                {}\n            ).addTo(map_7f2a8b30b792bbc4f1617fc07f9d8105);\n        \n    \n            var icon_f81a70808658b9ee0159d33738aea805 = L.AwesomeMarkers.icon(\n                {&quot;extraClasses&quot;: &quot;fa-rotate-0&quot;, &quot;icon&quot;: &quot;info-sign&quot;, &quot;iconColor&quot;: &quot;white&quot;, &quot;markerColor&quot;: &quot;orange&quot;, &quot;prefix&quot;: &quot;glyphicon&quot;}\n            );\n            marker_e454d98e9ef17e5ac85ad7184e4e07a4.setIcon(icon_f81a70808658b9ee0159d33738aea805);\n        \n    \n        var popup_bc442ddffe1dada067e6775dcf7b8607 = L.popup({&quot;maxWidth&quot;: 500});\n\n        \n            var html_a120eefb33719c15bfb0d800654cbb5c = $(`&lt;div id=&quot;html_a120eefb33719c15bfb0d800654cbb5c&quot; style=&quot;width: 100.0%; height: 100.0%;&quot;&gt;&lt;style type=&quot;text/css&quot;&gt;             .tg  {border-collapse:collapse;border-spacing:0;margin:0px auto;}             .tg td{border-color:black;border-style:solid;border-width:1px;font-family:Arial, sans-serif;font-size:14px;               overflow:hidden;padding:10px 5px;word-break:normal;}             .tg th{border-color:black;border-style:solid;border-width:1px;font-family:Arial, sans-serif;font-size:14px;               font-weight:normal;overflow:hidden;padding:10px 5px;word-break:normal;}             .tg .tg-3aoq{border-color:inherit;font-family:&quot;Comic Sans MS&quot;, cursive, sans-serif !important;font-weight:bold;text-align:center;               vertical-align:top}             .tg .tg-am6h{border-color:inherit;font-family:&quot;Comic Sans MS&quot;, cursive, sans-serif !important;text-align:center;vertical-align:top}             &lt;/style&gt;             &lt;head&gt; &lt;center&gt;&lt;h3 style=&#x27;font-family:&quot;Comic Sans MS&quot;, cursive, sans-serif !important&#x27;&gt;Philbrook Museum of Art&lt;/h3&gt;&lt;/center&gt; &lt;/head&gt;             &lt;table class=&quot;tg&quot;&gt;             &lt;tbody&gt;               &lt;tr&gt;                 &lt;td class=&quot;tg-3aoq&quot;&gt;City&lt;/td&gt;                 &lt;td class=&quot;tg-am6h&quot;&gt;Tulsa&lt;/td&gt;               &lt;/tr&gt;               &lt;tr&gt;                 &lt;td class=&quot;tg-3aoq&quot;&gt;Country&lt;/td&gt;                 &lt;td class=&quot;tg-am6h&quot;&gt;United States&lt;/td&gt;               &lt;/tr&gt;               &lt;tr&gt;                 &lt;td class=&quot;tg-3aoq&quot;&gt;Address&lt;/td&gt;                 &lt;td class=&quot;tg-am6h&quot;&gt;2727 S Rockford Rd&lt;/td&gt;               &lt;/tr&gt;               &lt;tr&gt;                 &lt;td class=&quot;tg-3aoq&quot;&gt;People&lt;br&gt;been here&lt;/td&gt;                 &lt;td class=&quot;tg-am6h&quot;&gt;443&lt;/td&gt;               &lt;/tr&gt;             &lt;/tbody&gt;             &lt;/table&gt;&lt;/div&gt;`)[0];\n            popup_bc442ddffe1dada067e6775dcf7b8607.setContent(html_a120eefb33719c15bfb0d800654cbb5c);\n        \n\n        marker_e454d98e9ef17e5ac85ad7184e4e07a4.bindPopup(popup_bc442ddffe1dada067e6775dcf7b8607)\n        ;\n\n        \n    \n    \n            marker_e454d98e9ef17e5ac85ad7184e4e07a4.bindTooltip(\n                `&lt;div&gt;\n                     Philbrook Museum of Art\n                 &lt;/div&gt;`,\n                {&quot;sticky&quot;: true}\n            );\n        \n    \n            var marker_e5ebd8c374a47a94ded7c08d7586d0c3 = L.marker(\n                [28.6105, -80.8087],\n                {}\n            ).addTo(map_7f2a8b30b792bbc4f1617fc07f9d8105);\n        \n    \n            var icon_29d766c55aadb73f8ae61add3d1c2471 = L.AwesomeMarkers.icon(\n                {&quot;extraClasses&quot;: &quot;fa-rotate-0&quot;, &quot;icon&quot;: &quot;info-sign&quot;, &quot;iconColor&quot;: &quot;white&quot;, &quot;markerColor&quot;: &quot;orange&quot;, &quot;prefix&quot;: &quot;glyphicon&quot;}\n            );\n            marker_e5ebd8c374a47a94ded7c08d7586d0c3.setIcon(icon_29d766c55aadb73f8ae61add3d1c2471);\n        \n    \n        var popup_0a8d6cc4fbd50a825e55e417a2bdc465 = L.popup({&quot;maxWidth&quot;: 500});\n\n        \n            var html_5fca23dac6f1d20c7c5ba7267e9878f5 = $(`&lt;div id=&quot;html_5fca23dac6f1d20c7c5ba7267e9878f5&quot; style=&quot;width: 100.0%; height: 100.0%;&quot;&gt;&lt;style type=&quot;text/css&quot;&gt;             .tg  {border-collapse:collapse;border-spacing:0;margin:0px auto;}             .tg td{border-color:black;border-style:solid;border-width:1px;font-family:Arial, sans-serif;font-size:14px;               overflow:hidden;padding:10px 5px;word-break:normal;}             .tg th{border-color:black;border-style:solid;border-width:1px;font-family:Arial, sans-serif;font-size:14px;               font-weight:normal;overflow:hidden;padding:10px 5px;word-break:normal;}             .tg .tg-3aoq{border-color:inherit;font-family:&quot;Comic Sans MS&quot;, cursive, sans-serif !important;font-weight:bold;text-align:center;               vertical-align:top}             .tg .tg-am6h{border-color:inherit;font-family:&quot;Comic Sans MS&quot;, cursive, sans-serif !important;text-align:center;vertical-align:top}             &lt;/style&gt;             &lt;head&gt; &lt;center&gt;&lt;h3 style=&#x27;font-family:&quot;Comic Sans MS&quot;, cursive, sans-serif !important&#x27;&gt;American Space Museum&lt;/h3&gt;&lt;/center&gt; &lt;/head&gt;             &lt;table class=&quot;tg&quot;&gt;             &lt;tbody&gt;               &lt;tr&gt;                 &lt;td class=&quot;tg-3aoq&quot;&gt;City&lt;/td&gt;                 &lt;td class=&quot;tg-am6h&quot;&gt;Titusville&lt;/td&gt;               &lt;/tr&gt;               &lt;tr&gt;                 &lt;td class=&quot;tg-3aoq&quot;&gt;Country&lt;/td&gt;                 &lt;td class=&quot;tg-am6h&quot;&gt;United States&lt;/td&gt;               &lt;/tr&gt;               &lt;tr&gt;                 &lt;td class=&quot;tg-3aoq&quot;&gt;Address&lt;/td&gt;                 &lt;td class=&quot;tg-am6h&quot;&gt;308 Pine Street&lt;/td&gt;               &lt;/tr&gt;               &lt;tr&gt;                 &lt;td class=&quot;tg-3aoq&quot;&gt;People&lt;br&gt;been here&lt;/td&gt;                 &lt;td class=&quot;tg-am6h&quot;&gt;316&lt;/td&gt;               &lt;/tr&gt;             &lt;/tbody&gt;             &lt;/table&gt;&lt;/div&gt;`)[0];\n            popup_0a8d6cc4fbd50a825e55e417a2bdc465.setContent(html_5fca23dac6f1d20c7c5ba7267e9878f5);\n        \n\n        marker_e5ebd8c374a47a94ded7c08d7586d0c3.bindPopup(popup_0a8d6cc4fbd50a825e55e417a2bdc465)\n        ;\n\n        \n    \n    \n            marker_e5ebd8c374a47a94ded7c08d7586d0c3.bindTooltip(\n                `&lt;div&gt;\n                     American Space Museum\n                 &lt;/div&gt;`,\n                {&quot;sticky&quot;: true}\n            );\n        \n    \n            var marker_eea6b2731b0dab521d31f0b517ab0fdd = L.marker(\n                [52.5366, 13.0105],\n                {}\n            ).addTo(map_7f2a8b30b792bbc4f1617fc07f9d8105);\n        \n    \n            var icon_a1d257405db518c88d62203a738ecf96 = L.AwesomeMarkers.icon(\n                {&quot;extraClasses&quot;: &quot;fa-rotate-0&quot;, &quot;icon&quot;: &quot;info-sign&quot;, &quot;iconColor&quot;: &quot;white&quot;, &quot;markerColor&quot;: &quot;orange&quot;, &quot;prefix&quot;: &quot;glyphicon&quot;}\n            );\n            marker_eea6b2731b0dab521d31f0b517ab0fdd.setIcon(icon_a1d257405db518c88d62203a738ecf96);\n        \n    \n        var popup_182af7dc1c746ad3c623eb2d672f4420 = L.popup({&quot;maxWidth&quot;: 500});\n\n        \n            var html_fdb61a5b427a1bb834f5157b10b02cf8 = $(`&lt;div id=&quot;html_fdb61a5b427a1bb834f5157b10b02cf8&quot; style=&quot;width: 100.0%; height: 100.0%;&quot;&gt;&lt;style type=&quot;text/css&quot;&gt;             .tg  {border-collapse:collapse;border-spacing:0;margin:0px auto;}             .tg td{border-color:black;border-style:solid;border-width:1px;font-family:Arial, sans-serif;font-size:14px;               overflow:hidden;padding:10px 5px;word-break:normal;}             .tg th{border-color:black;border-style:solid;border-width:1px;font-family:Arial, sans-serif;font-size:14px;               font-weight:normal;overflow:hidden;padding:10px 5px;word-break:normal;}             .tg .tg-3aoq{border-color:inherit;font-family:&quot;Comic Sans MS&quot;, cursive, sans-serif !important;font-weight:bold;text-align:center;               vertical-align:top}             .tg .tg-am6h{border-color:inherit;font-family:&quot;Comic Sans MS&quot;, cursive, sans-serif !important;text-align:center;vertical-align:top}             &lt;/style&gt;             &lt;head&gt; &lt;center&gt;&lt;h3 style=&#x27;font-family:&quot;Comic Sans MS&quot;, cursive, sans-serif !important&#x27;&gt;Hitler&#x27;s Olympic Village&lt;/h3&gt;&lt;/center&gt; &lt;/head&gt;             &lt;table class=&quot;tg&quot;&gt;             &lt;tbody&gt;               &lt;tr&gt;                 &lt;td class=&quot;tg-3aoq&quot;&gt;City&lt;/td&gt;                 &lt;td class=&quot;tg-am6h&quot;&gt;Wustermark&lt;/td&gt;               &lt;/tr&gt;               &lt;tr&gt;                 &lt;td class=&quot;tg-3aoq&quot;&gt;Country&lt;/td&gt;                 &lt;td class=&quot;tg-am6h&quot;&gt;Germany&lt;/td&gt;               &lt;/tr&gt;               &lt;tr&gt;                 &lt;td class=&quot;tg-3aoq&quot;&gt;Address&lt;/td&gt;                 &lt;td class=&quot;tg-am6h&quot;&gt;3-5 Zum Wasserwerk&lt;/td&gt;               &lt;/tr&gt;               &lt;tr&gt;                 &lt;td class=&quot;tg-3aoq&quot;&gt;People&lt;br&gt;been here&lt;/td&gt;                 &lt;td class=&quot;tg-am6h&quot;&gt;182&lt;/td&gt;               &lt;/tr&gt;             &lt;/tbody&gt;             &lt;/table&gt;&lt;/div&gt;`)[0];\n            popup_182af7dc1c746ad3c623eb2d672f4420.setContent(html_fdb61a5b427a1bb834f5157b10b02cf8);\n        \n\n        marker_eea6b2731b0dab521d31f0b517ab0fdd.bindPopup(popup_182af7dc1c746ad3c623eb2d672f4420)\n        ;\n\n        \n    \n    \n            marker_eea6b2731b0dab521d31f0b517ab0fdd.bindTooltip(\n                `&lt;div&gt;\n                     Hitler&#x27;s Olympic Village\n                 &lt;/div&gt;`,\n                {&quot;sticky&quot;: true}\n            );\n        \n    \n            var marker_061df404a91853aa40d184714f7e9de1 = L.marker(\n                [39.7558, -94.8451],\n                {}\n            ).addTo(map_7f2a8b30b792bbc4f1617fc07f9d8105);\n        \n    \n            var icon_39f3401aaf6ac39aaa9ec76615fc326f = L.AwesomeMarkers.icon(\n                {&quot;extraClasses&quot;: &quot;fa-rotate-0&quot;, &quot;icon&quot;: &quot;info-sign&quot;, &quot;iconColor&quot;: &quot;white&quot;, &quot;markerColor&quot;: &quot;orange&quot;, &quot;prefix&quot;: &quot;glyphicon&quot;}\n            );\n            marker_061df404a91853aa40d184714f7e9de1.setIcon(icon_39f3401aaf6ac39aaa9ec76615fc326f);\n        \n    \n        var popup_f713641c50f9b9910b0d123fb906f68a = L.popup({&quot;maxWidth&quot;: 500});\n\n        \n            var html_3f678500cfaa164c55e7f143d711e6d3 = $(`&lt;div id=&quot;html_3f678500cfaa164c55e7f143d711e6d3&quot; style=&quot;width: 100.0%; height: 100.0%;&quot;&gt;&lt;style type=&quot;text/css&quot;&gt;             .tg  {border-collapse:collapse;border-spacing:0;margin:0px auto;}             .tg td{border-color:black;border-style:solid;border-width:1px;font-family:Arial, sans-serif;font-size:14px;               overflow:hidden;padding:10px 5px;word-break:normal;}             .tg th{border-color:black;border-style:solid;border-width:1px;font-family:Arial, sans-serif;font-size:14px;               font-weight:normal;overflow:hidden;padding:10px 5px;word-break:normal;}             .tg .tg-3aoq{border-color:inherit;font-family:&quot;Comic Sans MS&quot;, cursive, sans-serif !important;font-weight:bold;text-align:center;               vertical-align:top}             .tg .tg-am6h{border-color:inherit;font-family:&quot;Comic Sans MS&quot;, cursive, sans-serif !important;text-align:center;vertical-align:top}             &lt;/style&gt;             &lt;head&gt; &lt;center&gt;&lt;h3 style=&#x27;font-family:&quot;Comic Sans MS&quot;, cursive, sans-serif !important&#x27;&gt;Jesse James Home Museum&lt;/h3&gt;&lt;/center&gt; &lt;/head&gt;             &lt;table class=&quot;tg&quot;&gt;             &lt;tbody&gt;               &lt;tr&gt;                 &lt;td class=&quot;tg-3aoq&quot;&gt;City&lt;/td&gt;                 &lt;td class=&quot;tg-am6h&quot;&gt;St. Joseph&lt;/td&gt;               &lt;/tr&gt;               &lt;tr&gt;                 &lt;td class=&quot;tg-3aoq&quot;&gt;Country&lt;/td&gt;                 &lt;td class=&quot;tg-am6h&quot;&gt;United States&lt;/td&gt;               &lt;/tr&gt;               &lt;tr&gt;                 &lt;td class=&quot;tg-3aoq&quot;&gt;Address&lt;/td&gt;                 &lt;td class=&quot;tg-am6h&quot;&gt;1202 Penn St&lt;/td&gt;               &lt;/tr&gt;               &lt;tr&gt;                 &lt;td class=&quot;tg-3aoq&quot;&gt;People&lt;br&gt;been here&lt;/td&gt;                 &lt;td class=&quot;tg-am6h&quot;&gt;329&lt;/td&gt;               &lt;/tr&gt;             &lt;/tbody&gt;             &lt;/table&gt;&lt;/div&gt;`)[0];\n            popup_f713641c50f9b9910b0d123fb906f68a.setContent(html_3f678500cfaa164c55e7f143d711e6d3);\n        \n\n        marker_061df404a91853aa40d184714f7e9de1.bindPopup(popup_f713641c50f9b9910b0d123fb906f68a)\n        ;\n\n        \n    \n    \n            marker_061df404a91853aa40d184714f7e9de1.bindTooltip(\n                `&lt;div&gt;\n                     Jesse James Home Museum\n                 &lt;/div&gt;`,\n                {&quot;sticky&quot;: true}\n            );\n        \n    \n            var marker_35b7c3fa42cd16bcb0b9e04f724ec840 = L.marker(\n                [41.8856, -87.6249],\n                {}\n            ).addTo(map_7f2a8b30b792bbc4f1617fc07f9d8105);\n        \n    \n            var icon_6d2de68844869807dbc7828719fab0fc = L.AwesomeMarkers.icon(\n                {&quot;extraClasses&quot;: &quot;fa-rotate-0&quot;, &quot;icon&quot;: &quot;info-sign&quot;, &quot;iconColor&quot;: &quot;white&quot;, &quot;markerColor&quot;: &quot;orange&quot;, &quot;prefix&quot;: &quot;glyphicon&quot;}\n            );\n            marker_35b7c3fa42cd16bcb0b9e04f724ec840.setIcon(icon_6d2de68844869807dbc7828719fab0fc);\n        \n    \n        var popup_c0c3cc5c002f838f78863669c02042df = L.popup({&quot;maxWidth&quot;: 500});\n\n        \n            var html_7ac2fb715ddcac147441441dbb89532a = $(`&lt;div id=&quot;html_7ac2fb715ddcac147441441dbb89532a&quot; style=&quot;width: 100.0%; height: 100.0%;&quot;&gt;&lt;style type=&quot;text/css&quot;&gt;             .tg  {border-collapse:collapse;border-spacing:0;margin:0px auto;}             .tg td{border-color:black;border-style:solid;border-width:1px;font-family:Arial, sans-serif;font-size:14px;               overflow:hidden;padding:10px 5px;word-break:normal;}             .tg th{border-color:black;border-style:solid;border-width:1px;font-family:Arial, sans-serif;font-size:14px;               font-weight:normal;overflow:hidden;padding:10px 5px;word-break:normal;}             .tg .tg-3aoq{border-color:inherit;font-family:&quot;Comic Sans MS&quot;, cursive, sans-serif !important;font-weight:bold;text-align:center;               vertical-align:top}             .tg .tg-am6h{border-color:inherit;font-family:&quot;Comic Sans MS&quot;, cursive, sans-serif !important;text-align:center;vertical-align:top}             &lt;/style&gt;             &lt;head&gt; &lt;center&gt;&lt;h3 style=&#x27;font-family:&quot;Comic Sans MS&quot;, cursive, sans-serif !important&#x27;&gt;American Writers Museum&lt;/h3&gt;&lt;/center&gt; &lt;/head&gt;             &lt;table class=&quot;tg&quot;&gt;             &lt;tbody&gt;               &lt;tr&gt;                 &lt;td class=&quot;tg-3aoq&quot;&gt;City&lt;/td&gt;                 &lt;td class=&quot;tg-am6h&quot;&gt;Chicago&lt;/td&gt;               &lt;/tr&gt;               &lt;tr&gt;                 &lt;td class=&quot;tg-3aoq&quot;&gt;Country&lt;/td&gt;                 &lt;td class=&quot;tg-am6h&quot;&gt;United States&lt;/td&gt;               &lt;/tr&gt;               &lt;tr&gt;                 &lt;td class=&quot;tg-3aoq&quot;&gt;Address&lt;/td&gt;                 &lt;td class=&quot;tg-am6h&quot;&gt;180 N Michigan Ave&lt;/td&gt;               &lt;/tr&gt;               &lt;tr&gt;                 &lt;td class=&quot;tg-3aoq&quot;&gt;People&lt;br&gt;been here&lt;/td&gt;                 &lt;td class=&quot;tg-am6h&quot;&gt;181&lt;/td&gt;               &lt;/tr&gt;             &lt;/tbody&gt;             &lt;/table&gt;&lt;/div&gt;`)[0];\n            popup_c0c3cc5c002f838f78863669c02042df.setContent(html_7ac2fb715ddcac147441441dbb89532a);\n        \n\n        marker_35b7c3fa42cd16bcb0b9e04f724ec840.bindPopup(popup_c0c3cc5c002f838f78863669c02042df)\n        ;\n\n        \n    \n    \n            marker_35b7c3fa42cd16bcb0b9e04f724ec840.bindTooltip(\n                `&lt;div&gt;\n                     American Writers Museum\n                 &lt;/div&gt;`,\n                {&quot;sticky&quot;: true}\n            );\n        \n    \n            var marker_d29707a372dd088e89d66d5d0b526fdd = L.marker(\n                [34.1675, -118.3963],\n                {}\n            ).addTo(map_7f2a8b30b792bbc4f1617fc07f9d8105);\n        \n    \n            var icon_c4751cd628280525bab16a81c0b7f588 = L.AwesomeMarkers.icon(\n                {&quot;extraClasses&quot;: &quot;fa-rotate-0&quot;, &quot;icon&quot;: &quot;info-sign&quot;, &quot;iconColor&quot;: &quot;white&quot;, &quot;markerColor&quot;: &quot;orange&quot;, &quot;prefix&quot;: &quot;glyphicon&quot;}\n            );\n            marker_d29707a372dd088e89d66d5d0b526fdd.setIcon(icon_c4751cd628280525bab16a81c0b7f588);\n        \n    \n        var popup_2b15706998865ce8dc4c4c9068cb562f = L.popup({&quot;maxWidth&quot;: 500});\n\n        \n            var html_613146e3e8c766540e90db9236516e75 = $(`&lt;div id=&quot;html_613146e3e8c766540e90db9236516e75&quot; style=&quot;width: 100.0%; height: 100.0%;&quot;&gt;&lt;style type=&quot;text/css&quot;&gt;             .tg  {border-collapse:collapse;border-spacing:0;margin:0px auto;}             .tg td{border-color:black;border-style:solid;border-width:1px;font-family:Arial, sans-serif;font-size:14px;               overflow:hidden;padding:10px 5px;word-break:normal;}             .tg th{border-color:black;border-style:solid;border-width:1px;font-family:Arial, sans-serif;font-size:14px;               font-weight:normal;overflow:hidden;padding:10px 5px;word-break:normal;}             .tg .tg-3aoq{border-color:inherit;font-family:&quot;Comic Sans MS&quot;, cursive, sans-serif !important;font-weight:bold;text-align:center;               vertical-align:top}             .tg .tg-am6h{border-color:inherit;font-family:&quot;Comic Sans MS&quot;, cursive, sans-serif !important;text-align:center;vertical-align:top}             &lt;/style&gt;             &lt;head&gt; &lt;center&gt;&lt;h3 style=&#x27;font-family:&quot;Comic Sans MS&quot;, cursive, sans-serif !important&#x27;&gt;Metropolitan Pit Stop&lt;/h3&gt;&lt;/center&gt; &lt;/head&gt;             &lt;table class=&quot;tg&quot;&gt;             &lt;tbody&gt;               &lt;tr&gt;                 &lt;td class=&quot;tg-3aoq&quot;&gt;City&lt;/td&gt;                 &lt;td class=&quot;tg-am6h&quot;&gt;Los Angeles&lt;/td&gt;               &lt;/tr&gt;               &lt;tr&gt;                 &lt;td class=&quot;tg-3aoq&quot;&gt;Country&lt;/td&gt;                 &lt;td class=&quot;tg-am6h&quot;&gt;United States&lt;/td&gt;               &lt;/tr&gt;               &lt;tr&gt;                 &lt;td class=&quot;tg-3aoq&quot;&gt;Address&lt;/td&gt;                 &lt;td class=&quot;tg-am6h&quot;&gt;5324 Laurel Canyon Blvd.&lt;/td&gt;               &lt;/tr&gt;               &lt;tr&gt;                 &lt;td class=&quot;tg-3aoq&quot;&gt;People&lt;br&gt;been here&lt;/td&gt;                 &lt;td class=&quot;tg-am6h&quot;&gt;44&lt;/td&gt;               &lt;/tr&gt;             &lt;/tbody&gt;             &lt;/table&gt;&lt;/div&gt;`)[0];\n            popup_2b15706998865ce8dc4c4c9068cb562f.setContent(html_613146e3e8c766540e90db9236516e75);\n        \n\n        marker_d29707a372dd088e89d66d5d0b526fdd.bindPopup(popup_2b15706998865ce8dc4c4c9068cb562f)\n        ;\n\n        \n    \n    \n            marker_d29707a372dd088e89d66d5d0b526fdd.bindTooltip(\n                `&lt;div&gt;\n                     Metropolitan Pit Stop\n                 &lt;/div&gt;`,\n                {&quot;sticky&quot;: true}\n            );\n        \n    \n            var marker_6bfbd168f31fe2c50a0a376956fc153a = L.marker(\n                [46.1881, -123.83],\n                {}\n            ).addTo(map_7f2a8b30b792bbc4f1617fc07f9d8105);\n        \n    \n            var icon_d2be38ecb6fad66d0f45c2031582ae69 = L.AwesomeMarkers.icon(\n                {&quot;extraClasses&quot;: &quot;fa-rotate-0&quot;, &quot;icon&quot;: &quot;info-sign&quot;, &quot;iconColor&quot;: &quot;white&quot;, &quot;markerColor&quot;: &quot;orange&quot;, &quot;prefix&quot;: &quot;glyphicon&quot;}\n            );\n            marker_6bfbd168f31fe2c50a0a376956fc153a.setIcon(icon_d2be38ecb6fad66d0f45c2031582ae69);\n        \n    \n        var popup_f22fd4194ee982502810cf59c460a98c = L.popup({&quot;maxWidth&quot;: 500});\n\n        \n            var html_5c67975a53eabba4b19811d3331e446c = $(`&lt;div id=&quot;html_5c67975a53eabba4b19811d3331e446c&quot; style=&quot;width: 100.0%; height: 100.0%;&quot;&gt;&lt;style type=&quot;text/css&quot;&gt;             .tg  {border-collapse:collapse;border-spacing:0;margin:0px auto;}             .tg td{border-color:black;border-style:solid;border-width:1px;font-family:Arial, sans-serif;font-size:14px;               overflow:hidden;padding:10px 5px;word-break:normal;}             .tg th{border-color:black;border-style:solid;border-width:1px;font-family:Arial, sans-serif;font-size:14px;               font-weight:normal;overflow:hidden;padding:10px 5px;word-break:normal;}             .tg .tg-3aoq{border-color:inherit;font-family:&quot;Comic Sans MS&quot;, cursive, sans-serif !important;font-weight:bold;text-align:center;               vertical-align:top}             .tg .tg-am6h{border-color:inherit;font-family:&quot;Comic Sans MS&quot;, cursive, sans-serif !important;text-align:center;vertical-align:top}             &lt;/style&gt;             &lt;head&gt; &lt;center&gt;&lt;h3 style=&#x27;font-family:&quot;Comic Sans MS&quot;, cursive, sans-serif !important&#x27;&gt;Museum of Whimsy&lt;/h3&gt;&lt;/center&gt; &lt;/head&gt;             &lt;table class=&quot;tg&quot;&gt;             &lt;tbody&gt;               &lt;tr&gt;                 &lt;td class=&quot;tg-3aoq&quot;&gt;City&lt;/td&gt;                 &lt;td class=&quot;tg-am6h&quot;&gt;Astoria&lt;/td&gt;               &lt;/tr&gt;               &lt;tr&gt;                 &lt;td class=&quot;tg-3aoq&quot;&gt;Country&lt;/td&gt;                 &lt;td class=&quot;tg-am6h&quot;&gt;United States&lt;/td&gt;               &lt;/tr&gt;               &lt;tr&gt;                 &lt;td class=&quot;tg-3aoq&quot;&gt;Address&lt;/td&gt;                 &lt;td class=&quot;tg-am6h&quot;&gt;1215 Duane St&lt;/td&gt;               &lt;/tr&gt;               &lt;tr&gt;                 &lt;td class=&quot;tg-3aoq&quot;&gt;People&lt;br&gt;been here&lt;/td&gt;                 &lt;td class=&quot;tg-am6h&quot;&gt;81&lt;/td&gt;               &lt;/tr&gt;             &lt;/tbody&gt;             &lt;/table&gt;&lt;/div&gt;`)[0];\n            popup_f22fd4194ee982502810cf59c460a98c.setContent(html_5c67975a53eabba4b19811d3331e446c);\n        \n\n        marker_6bfbd168f31fe2c50a0a376956fc153a.bindPopup(popup_f22fd4194ee982502810cf59c460a98c)\n        ;\n\n        \n    \n    \n            marker_6bfbd168f31fe2c50a0a376956fc153a.bindTooltip(\n                `&lt;div&gt;\n                     Museum of Whimsy\n                 &lt;/div&gt;`,\n                {&quot;sticky&quot;: true}\n            );\n        \n    \n            var marker_bc3b24193144522fece9fb7820bde3e5 = L.marker(\n                [35.4668, -97.5115],\n                {}\n            ).addTo(map_7f2a8b30b792bbc4f1617fc07f9d8105);\n        \n    \n            var icon_25ad22da77f543901311f20e4117eee3 = L.AwesomeMarkers.icon(\n                {&quot;extraClasses&quot;: &quot;fa-rotate-0&quot;, &quot;icon&quot;: &quot;info-sign&quot;, &quot;iconColor&quot;: &quot;white&quot;, &quot;markerColor&quot;: &quot;orange&quot;, &quot;prefix&quot;: &quot;glyphicon&quot;}\n            );\n            marker_bc3b24193144522fece9fb7820bde3e5.setIcon(icon_25ad22da77f543901311f20e4117eee3);\n        \n    \n        var popup_7714fe6e3c9ffa45c2a7ef45386773fd = L.popup({&quot;maxWidth&quot;: 500});\n\n        \n            var html_334b5fe0bc19e8fc7115b3285c616662 = $(`&lt;div id=&quot;html_334b5fe0bc19e8fc7115b3285c616662&quot; style=&quot;width: 100.0%; height: 100.0%;&quot;&gt;&lt;style type=&quot;text/css&quot;&gt;             .tg  {border-collapse:collapse;border-spacing:0;margin:0px auto;}             .tg td{border-color:black;border-style:solid;border-width:1px;font-family:Arial, sans-serif;font-size:14px;               overflow:hidden;padding:10px 5px;word-break:normal;}             .tg th{border-color:black;border-style:solid;border-width:1px;font-family:Arial, sans-serif;font-size:14px;               font-weight:normal;overflow:hidden;padding:10px 5px;word-break:normal;}             .tg .tg-3aoq{border-color:inherit;font-family:&quot;Comic Sans MS&quot;, cursive, sans-serif !important;font-weight:bold;text-align:center;               vertical-align:top}             .tg .tg-am6h{border-color:inherit;font-family:&quot;Comic Sans MS&quot;, cursive, sans-serif !important;text-align:center;vertical-align:top}             &lt;/style&gt;             &lt;head&gt; &lt;center&gt;&lt;h3 style=&#x27;font-family:&quot;Comic Sans MS&quot;, cursive, sans-serif !important&#x27;&gt;American Banjo Museum&lt;/h3&gt;&lt;/center&gt; &lt;/head&gt;             &lt;table class=&quot;tg&quot;&gt;             &lt;tbody&gt;               &lt;tr&gt;                 &lt;td class=&quot;tg-3aoq&quot;&gt;City&lt;/td&gt;                 &lt;td class=&quot;tg-am6h&quot;&gt;Oklahoma City&lt;/td&gt;               &lt;/tr&gt;               &lt;tr&gt;                 &lt;td class=&quot;tg-3aoq&quot;&gt;Country&lt;/td&gt;                 &lt;td class=&quot;tg-am6h&quot;&gt;United States&lt;/td&gt;               &lt;/tr&gt;               &lt;tr&gt;                 &lt;td class=&quot;tg-3aoq&quot;&gt;Address&lt;/td&gt;                 &lt;td class=&quot;tg-am6h&quot;&gt;9 East Sheridan Avenue&lt;/td&gt;               &lt;/tr&gt;               &lt;tr&gt;                 &lt;td class=&quot;tg-3aoq&quot;&gt;People&lt;br&gt;been here&lt;/td&gt;                 &lt;td class=&quot;tg-am6h&quot;&gt;186&lt;/td&gt;               &lt;/tr&gt;             &lt;/tbody&gt;             &lt;/table&gt;&lt;/div&gt;`)[0];\n            popup_7714fe6e3c9ffa45c2a7ef45386773fd.setContent(html_334b5fe0bc19e8fc7115b3285c616662);\n        \n\n        marker_bc3b24193144522fece9fb7820bde3e5.bindPopup(popup_7714fe6e3c9ffa45c2a7ef45386773fd)\n        ;\n\n        \n    \n    \n            marker_bc3b24193144522fece9fb7820bde3e5.bindTooltip(\n                `&lt;div&gt;\n                     American Banjo Museum\n                 &lt;/div&gt;`,\n                {&quot;sticky&quot;: true}\n            );\n        \n    \n            var marker_3ac9df89b8b40814beb07292aca130ea = L.marker(\n                [43.0385, -87.8975],\n                {}\n            ).addTo(map_7f2a8b30b792bbc4f1617fc07f9d8105);\n        \n    \n            var icon_a09f5e88faf5380800eb9fe8bcf0bab8 = L.AwesomeMarkers.icon(\n                {&quot;extraClasses&quot;: &quot;fa-rotate-0&quot;, &quot;icon&quot;: &quot;info-sign&quot;, &quot;iconColor&quot;: &quot;white&quot;, &quot;markerColor&quot;: &quot;orange&quot;, &quot;prefix&quot;: &quot;glyphicon&quot;}\n            );\n            marker_3ac9df89b8b40814beb07292aca130ea.setIcon(icon_a09f5e88faf5380800eb9fe8bcf0bab8);\n        \n    \n        var popup_4fddc89f8a778521fa87c6b1039c57ff = L.popup({&quot;maxWidth&quot;: 500});\n\n        \n            var html_61fe3b2f88a2168649801689ea354b22 = $(`&lt;div id=&quot;html_61fe3b2f88a2168649801689ea354b22&quot; style=&quot;width: 100.0%; height: 100.0%;&quot;&gt;&lt;style type=&quot;text/css&quot;&gt;             .tg  {border-collapse:collapse;border-spacing:0;margin:0px auto;}             .tg td{border-color:black;border-style:solid;border-width:1px;font-family:Arial, sans-serif;font-size:14px;               overflow:hidden;padding:10px 5px;word-break:normal;}             .tg th{border-color:black;border-style:solid;border-width:1px;font-family:Arial, sans-serif;font-size:14px;               font-weight:normal;overflow:hidden;padding:10px 5px;word-break:normal;}             .tg .tg-3aoq{border-color:inherit;font-family:&quot;Comic Sans MS&quot;, cursive, sans-serif !important;font-weight:bold;text-align:center;               vertical-align:top}             .tg .tg-am6h{border-color:inherit;font-family:&quot;Comic Sans MS&quot;, cursive, sans-serif !important;text-align:center;vertical-align:top}             &lt;/style&gt;             &lt;head&gt; &lt;center&gt;&lt;h3 style=&#x27;font-family:&quot;Comic Sans MS&quot;, cursive, sans-serif !important&#x27;&gt;Milwaukee Art Museum&lt;/h3&gt;&lt;/center&gt; &lt;/head&gt;             &lt;table class=&quot;tg&quot;&gt;             &lt;tbody&gt;               &lt;tr&gt;                 &lt;td class=&quot;tg-3aoq&quot;&gt;City&lt;/td&gt;                 &lt;td class=&quot;tg-am6h&quot;&gt;Milwaukee&lt;/td&gt;               &lt;/tr&gt;               &lt;tr&gt;                 &lt;td class=&quot;tg-3aoq&quot;&gt;Country&lt;/td&gt;                 &lt;td class=&quot;tg-am6h&quot;&gt;United States&lt;/td&gt;               &lt;/tr&gt;               &lt;tr&gt;                 &lt;td class=&quot;tg-3aoq&quot;&gt;Address&lt;/td&gt;                 &lt;td class=&quot;tg-am6h&quot;&gt;700 N. Art Museum Dr.&lt;/td&gt;               &lt;/tr&gt;               &lt;tr&gt;                 &lt;td class=&quot;tg-3aoq&quot;&gt;People&lt;br&gt;been here&lt;/td&gt;                 &lt;td class=&quot;tg-am6h&quot;&gt;1652&lt;/td&gt;               &lt;/tr&gt;             &lt;/tbody&gt;             &lt;/table&gt;&lt;/div&gt;`)[0];\n            popup_4fddc89f8a778521fa87c6b1039c57ff.setContent(html_61fe3b2f88a2168649801689ea354b22);\n        \n\n        marker_3ac9df89b8b40814beb07292aca130ea.bindPopup(popup_4fddc89f8a778521fa87c6b1039c57ff)\n        ;\n\n        \n    \n    \n            marker_3ac9df89b8b40814beb07292aca130ea.bindTooltip(\n                `&lt;div&gt;\n                     Milwaukee Art Museum\n                 &lt;/div&gt;`,\n                {&quot;sticky&quot;: true}\n            );\n        \n    \n            var marker_e92e96275d35cb3afd4e4430a1bb1b2b = L.marker(\n                [29.4262, -98.489],\n                {}\n            ).addTo(map_7f2a8b30b792bbc4f1617fc07f9d8105);\n        \n    \n            var icon_400eae1c8da5c04c8bf610dd437b051c = L.AwesomeMarkers.icon(\n                {&quot;extraClasses&quot;: &quot;fa-rotate-0&quot;, &quot;icon&quot;: &quot;info-sign&quot;, &quot;iconColor&quot;: &quot;white&quot;, &quot;markerColor&quot;: &quot;orange&quot;, &quot;prefix&quot;: &quot;glyphicon&quot;}\n            );\n            marker_e92e96275d35cb3afd4e4430a1bb1b2b.setIcon(icon_400eae1c8da5c04c8bf610dd437b051c);\n        \n    \n        var popup_840a847b86c75ded27db627399510544 = L.popup({&quot;maxWidth&quot;: 500});\n\n        \n            var html_9c02b0317ed4f5c5c55d5e5b6561b628 = $(`&lt;div id=&quot;html_9c02b0317ed4f5c5c55d5e5b6561b628&quot; style=&quot;width: 100.0%; height: 100.0%;&quot;&gt;&lt;style type=&quot;text/css&quot;&gt;             .tg  {border-collapse:collapse;border-spacing:0;margin:0px auto;}             .tg td{border-color:black;border-style:solid;border-width:1px;font-family:Arial, sans-serif;font-size:14px;               overflow:hidden;padding:10px 5px;word-break:normal;}             .tg th{border-color:black;border-style:solid;border-width:1px;font-family:Arial, sans-serif;font-size:14px;               font-weight:normal;overflow:hidden;padding:10px 5px;word-break:normal;}             .tg .tg-3aoq{border-color:inherit;font-family:&quot;Comic Sans MS&quot;, cursive, sans-serif !important;font-weight:bold;text-align:center;               vertical-align:top}             .tg .tg-am6h{border-color:inherit;font-family:&quot;Comic Sans MS&quot;, cursive, sans-serif !important;text-align:center;vertical-align:top}             &lt;/style&gt;             &lt;head&gt; &lt;center&gt;&lt;h3 style=&#x27;font-family:&quot;Comic Sans MS&quot;, cursive, sans-serif !important&#x27;&gt;Buckhorn Saloon and Museum&lt;/h3&gt;&lt;/center&gt; &lt;/head&gt;             &lt;table class=&quot;tg&quot;&gt;             &lt;tbody&gt;               &lt;tr&gt;                 &lt;td class=&quot;tg-3aoq&quot;&gt;City&lt;/td&gt;                 &lt;td class=&quot;tg-am6h&quot;&gt;San Antonio&lt;/td&gt;               &lt;/tr&gt;               &lt;tr&gt;                 &lt;td class=&quot;tg-3aoq&quot;&gt;Country&lt;/td&gt;                 &lt;td class=&quot;tg-am6h&quot;&gt;United States&lt;/td&gt;               &lt;/tr&gt;               &lt;tr&gt;                 &lt;td class=&quot;tg-3aoq&quot;&gt;Address&lt;/td&gt;                 &lt;td class=&quot;tg-am6h&quot;&gt;318 E. Houston Street&lt;/td&gt;               &lt;/tr&gt;               &lt;tr&gt;                 &lt;td class=&quot;tg-3aoq&quot;&gt;People&lt;br&gt;been here&lt;/td&gt;                 &lt;td class=&quot;tg-am6h&quot;&gt;742&lt;/td&gt;               &lt;/tr&gt;             &lt;/tbody&gt;             &lt;/table&gt;&lt;/div&gt;`)[0];\n            popup_840a847b86c75ded27db627399510544.setContent(html_9c02b0317ed4f5c5c55d5e5b6561b628);\n        \n\n        marker_e92e96275d35cb3afd4e4430a1bb1b2b.bindPopup(popup_840a847b86c75ded27db627399510544)\n        ;\n\n        \n    \n    \n            marker_e92e96275d35cb3afd4e4430a1bb1b2b.bindTooltip(\n                `&lt;div&gt;\n                     Buckhorn Saloon and Museum\n                 &lt;/div&gt;`,\n                {&quot;sticky&quot;: true}\n            );\n        \n    \n            var marker_83f38be0b74ba16146bb8a49cfdabe9e = L.marker(\n                [36.1141, -115.1484],\n                {}\n            ).addTo(map_7f2a8b30b792bbc4f1617fc07f9d8105);\n        \n    \n            var icon_67ae6aba26124dbccba4dabf5a69f0c9 = L.AwesomeMarkers.icon(\n                {&quot;extraClasses&quot;: &quot;fa-rotate-0&quot;, &quot;icon&quot;: &quot;info-sign&quot;, &quot;iconColor&quot;: &quot;white&quot;, &quot;markerColor&quot;: &quot;orange&quot;, &quot;prefix&quot;: &quot;glyphicon&quot;}\n            );\n            marker_83f38be0b74ba16146bb8a49cfdabe9e.setIcon(icon_67ae6aba26124dbccba4dabf5a69f0c9);\n        \n    \n        var popup_6eb2f7833bf4b20ce966d34a93b07571 = L.popup({&quot;maxWidth&quot;: 500});\n\n        \n            var html_afa827308a12e2cb920825f20cba9e44 = $(`&lt;div id=&quot;html_afa827308a12e2cb920825f20cba9e44&quot; style=&quot;width: 100.0%; height: 100.0%;&quot;&gt;&lt;style type=&quot;text/css&quot;&gt;             .tg  {border-collapse:collapse;border-spacing:0;margin:0px auto;}             .tg td{border-color:black;border-style:solid;border-width:1px;font-family:Arial, sans-serif;font-size:14px;               overflow:hidden;padding:10px 5px;word-break:normal;}             .tg th{border-color:black;border-style:solid;border-width:1px;font-family:Arial, sans-serif;font-size:14px;               font-weight:normal;overflow:hidden;padding:10px 5px;word-break:normal;}             .tg .tg-3aoq{border-color:inherit;font-family:&quot;Comic Sans MS&quot;, cursive, sans-serif !important;font-weight:bold;text-align:center;               vertical-align:top}             .tg .tg-am6h{border-color:inherit;font-family:&quot;Comic Sans MS&quot;, cursive, sans-serif !important;text-align:center;vertical-align:top}             &lt;/style&gt;             &lt;head&gt; &lt;center&gt;&lt;h3 style=&#x27;font-family:&quot;Comic Sans MS&quot;, cursive, sans-serif !important&#x27;&gt;National Atomic Testing Museum&lt;/h3&gt;&lt;/center&gt; &lt;/head&gt;             &lt;table class=&quot;tg&quot;&gt;             &lt;tbody&gt;               &lt;tr&gt;                 &lt;td class=&quot;tg-3aoq&quot;&gt;City&lt;/td&gt;                 &lt;td class=&quot;tg-am6h&quot;&gt;Las Vegas&lt;/td&gt;               &lt;/tr&gt;               &lt;tr&gt;                 &lt;td class=&quot;tg-3aoq&quot;&gt;Country&lt;/td&gt;                 &lt;td class=&quot;tg-am6h&quot;&gt;United States&lt;/td&gt;               &lt;/tr&gt;               &lt;tr&gt;                 &lt;td class=&quot;tg-3aoq&quot;&gt;Address&lt;/td&gt;                 &lt;td class=&quot;tg-am6h&quot;&gt;755 E Flamingo Rd&lt;/td&gt;               &lt;/tr&gt;               &lt;tr&gt;                 &lt;td class=&quot;tg-3aoq&quot;&gt;People&lt;br&gt;been here&lt;/td&gt;                 &lt;td class=&quot;tg-am6h&quot;&gt;1096&lt;/td&gt;               &lt;/tr&gt;             &lt;/tbody&gt;             &lt;/table&gt;&lt;/div&gt;`)[0];\n            popup_6eb2f7833bf4b20ce966d34a93b07571.setContent(html_afa827308a12e2cb920825f20cba9e44);\n        \n\n        marker_83f38be0b74ba16146bb8a49cfdabe9e.bindPopup(popup_6eb2f7833bf4b20ce966d34a93b07571)\n        ;\n\n        \n    \n    \n            marker_83f38be0b74ba16146bb8a49cfdabe9e.bindTooltip(\n                `&lt;div&gt;\n                     National Atomic Testing Museum\n                 &lt;/div&gt;`,\n                {&quot;sticky&quot;: true}\n            );\n        \n    \n            var marker_15c6d79d34689001c5aeec06363952ad = L.marker(\n                [39.7769, -94.8147],\n                {}\n            ).addTo(map_7f2a8b30b792bbc4f1617fc07f9d8105);\n        \n    \n            var icon_edfaa26bedbc34f86dcec4ae223546de = L.AwesomeMarkers.icon(\n                {&quot;extraClasses&quot;: &quot;fa-rotate-0&quot;, &quot;icon&quot;: &quot;info-sign&quot;, &quot;iconColor&quot;: &quot;white&quot;, &quot;markerColor&quot;: &quot;orange&quot;, &quot;prefix&quot;: &quot;glyphicon&quot;}\n            );\n            marker_15c6d79d34689001c5aeec06363952ad.setIcon(icon_edfaa26bedbc34f86dcec4ae223546de);\n        \n    \n        var popup_d44250ed6e1206b268eb583b6d66afa2 = L.popup({&quot;maxWidth&quot;: 500});\n\n        \n            var html_ce04ff6108d6711d036fbca8b3a0a0c6 = $(`&lt;div id=&quot;html_ce04ff6108d6711d036fbca8b3a0a0c6&quot; style=&quot;width: 100.0%; height: 100.0%;&quot;&gt;&lt;style type=&quot;text/css&quot;&gt;             .tg  {border-collapse:collapse;border-spacing:0;margin:0px auto;}             .tg td{border-color:black;border-style:solid;border-width:1px;font-family:Arial, sans-serif;font-size:14px;               overflow:hidden;padding:10px 5px;word-break:normal;}             .tg th{border-color:black;border-style:solid;border-width:1px;font-family:Arial, sans-serif;font-size:14px;               font-weight:normal;overflow:hidden;padding:10px 5px;word-break:normal;}             .tg .tg-3aoq{border-color:inherit;font-family:&quot;Comic Sans MS&quot;, cursive, sans-serif !important;font-weight:bold;text-align:center;               vertical-align:top}             .tg .tg-am6h{border-color:inherit;font-family:&quot;Comic Sans MS&quot;, cursive, sans-serif !important;text-align:center;vertical-align:top}             &lt;/style&gt;             &lt;head&gt; &lt;center&gt;&lt;h3 style=&#x27;font-family:&quot;Comic Sans MS&quot;, cursive, sans-serif !important&#x27;&gt;Glore Psychiatric Museum&lt;/h3&gt;&lt;/center&gt; &lt;/head&gt;             &lt;table class=&quot;tg&quot;&gt;             &lt;tbody&gt;               &lt;tr&gt;                 &lt;td class=&quot;tg-3aoq&quot;&gt;City&lt;/td&gt;                 &lt;td class=&quot;tg-am6h&quot;&gt;St. Joseph&lt;/td&gt;               &lt;/tr&gt;               &lt;tr&gt;                 &lt;td class=&quot;tg-3aoq&quot;&gt;Country&lt;/td&gt;                 &lt;td class=&quot;tg-am6h&quot;&gt;United States&lt;/td&gt;               &lt;/tr&gt;               &lt;tr&gt;                 &lt;td class=&quot;tg-3aoq&quot;&gt;Address&lt;/td&gt;                 &lt;td class=&quot;tg-am6h&quot;&gt;3408 Frederick Ave&lt;/td&gt;               &lt;/tr&gt;               &lt;tr&gt;                 &lt;td class=&quot;tg-3aoq&quot;&gt;People&lt;br&gt;been here&lt;/td&gt;                 &lt;td class=&quot;tg-am6h&quot;&gt;383&lt;/td&gt;               &lt;/tr&gt;             &lt;/tbody&gt;             &lt;/table&gt;&lt;/div&gt;`)[0];\n            popup_d44250ed6e1206b268eb583b6d66afa2.setContent(html_ce04ff6108d6711d036fbca8b3a0a0c6);\n        \n\n        marker_15c6d79d34689001c5aeec06363952ad.bindPopup(popup_d44250ed6e1206b268eb583b6d66afa2)\n        ;\n\n        \n    \n    \n            marker_15c6d79d34689001c5aeec06363952ad.bindTooltip(\n                `&lt;div&gt;\n                     Glore Psychiatric Museum\n                 &lt;/div&gt;`,\n                {&quot;sticky&quot;: true}\n            );\n        \n    \n            var marker_bc65f2521099cb9bcb3fcab9391be1b4 = L.marker(\n                [43.8368, -103.6244],\n                {}\n            ).addTo(map_7f2a8b30b792bbc4f1617fc07f9d8105);\n        \n    \n            var icon_0d19b307f0a8385ed02a06dc5c23e394 = L.AwesomeMarkers.icon(\n                {&quot;extraClasses&quot;: &quot;fa-rotate-0&quot;, &quot;icon&quot;: &quot;info-sign&quot;, &quot;iconColor&quot;: &quot;white&quot;, &quot;markerColor&quot;: &quot;orange&quot;, &quot;prefix&quot;: &quot;glyphicon&quot;}\n            );\n            marker_bc65f2521099cb9bcb3fcab9391be1b4.setIcon(icon_0d19b307f0a8385ed02a06dc5c23e394);\n        \n    \n        var popup_79cfcf999a33a944f479c5d9ac7f10f3 = L.popup({&quot;maxWidth&quot;: 500});\n\n        \n            var html_0190fb9f19a20c61868ce511d84cceb9 = $(`&lt;div id=&quot;html_0190fb9f19a20c61868ce511d84cceb9&quot; style=&quot;width: 100.0%; height: 100.0%;&quot;&gt;&lt;style type=&quot;text/css&quot;&gt;             .tg  {border-collapse:collapse;border-spacing:0;margin:0px auto;}             .tg td{border-color:black;border-style:solid;border-width:1px;font-family:Arial, sans-serif;font-size:14px;               overflow:hidden;padding:10px 5px;word-break:normal;}             .tg th{border-color:black;border-style:solid;border-width:1px;font-family:Arial, sans-serif;font-size:14px;               font-weight:normal;overflow:hidden;padding:10px 5px;word-break:normal;}             .tg .tg-3aoq{border-color:inherit;font-family:&quot;Comic Sans MS&quot;, cursive, sans-serif !important;font-weight:bold;text-align:center;               vertical-align:top}             .tg .tg-am6h{border-color:inherit;font-family:&quot;Comic Sans MS&quot;, cursive, sans-serif !important;text-align:center;vertical-align:top}             &lt;/style&gt;             &lt;head&gt; &lt;center&gt;&lt;h3 style=&#x27;font-family:&quot;Comic Sans MS&quot;, cursive, sans-serif !important&#x27;&gt;Crazy Horse Memorial&lt;/h3&gt;&lt;/center&gt; &lt;/head&gt;             &lt;table class=&quot;tg&quot;&gt;             &lt;tbody&gt;               &lt;tr&gt;                 &lt;td class=&quot;tg-3aoq&quot;&gt;City&lt;/td&gt;                 &lt;td class=&quot;tg-am6h&quot;&gt;Custer&lt;/td&gt;               &lt;/tr&gt;               &lt;tr&gt;                 &lt;td class=&quot;tg-3aoq&quot;&gt;Country&lt;/td&gt;                 &lt;td class=&quot;tg-am6h&quot;&gt;United States&lt;/td&gt;               &lt;/tr&gt;               &lt;tr&gt;                 &lt;td class=&quot;tg-3aoq&quot;&gt;Address&lt;/td&gt;                 &lt;td class=&quot;tg-am6h&quot;&gt;12151 Avenue of the Chiefs&lt;/td&gt;               &lt;/tr&gt;               &lt;tr&gt;                 &lt;td class=&quot;tg-3aoq&quot;&gt;People&lt;br&gt;been here&lt;/td&gt;                 &lt;td class=&quot;tg-am6h&quot;&gt;2601&lt;/td&gt;               &lt;/tr&gt;             &lt;/tbody&gt;             &lt;/table&gt;&lt;/div&gt;`)[0];\n            popup_79cfcf999a33a944f479c5d9ac7f10f3.setContent(html_0190fb9f19a20c61868ce511d84cceb9);\n        \n\n        marker_bc65f2521099cb9bcb3fcab9391be1b4.bindPopup(popup_79cfcf999a33a944f479c5d9ac7f10f3)\n        ;\n\n        \n    \n    \n            marker_bc65f2521099cb9bcb3fcab9391be1b4.bindTooltip(\n                `&lt;div&gt;\n                     Crazy Horse Memorial\n                 &lt;/div&gt;`,\n                {&quot;sticky&quot;: true}\n            );\n        \n    \n            var marker_6423683eaa2b63167e9d0a0772096bbe = L.marker(\n                [35.1689, -106.3659],\n                {}\n            ).addTo(map_7f2a8b30b792bbc4f1617fc07f9d8105);\n        \n    \n            var icon_cb3d3c9fb22c22a3c746231261efe7a4 = L.AwesomeMarkers.icon(\n                {&quot;extraClasses&quot;: &quot;fa-rotate-0&quot;, &quot;icon&quot;: &quot;info-sign&quot;, &quot;iconColor&quot;: &quot;white&quot;, &quot;markerColor&quot;: &quot;orange&quot;, &quot;prefix&quot;: &quot;glyphicon&quot;}\n            );\n            marker_6423683eaa2b63167e9d0a0772096bbe.setIcon(icon_cb3d3c9fb22c22a3c746231261efe7a4);\n        \n    \n        var popup_3aa59b916a135eaad2a6902733a57c9f = L.popup({&quot;maxWidth&quot;: 500});\n\n        \n            var html_10b9c4a3370ff2301c085f73b92f225f = $(`&lt;div id=&quot;html_10b9c4a3370ff2301c085f73b92f225f&quot; style=&quot;width: 100.0%; height: 100.0%;&quot;&gt;&lt;style type=&quot;text/css&quot;&gt;             .tg  {border-collapse:collapse;border-spacing:0;margin:0px auto;}             .tg td{border-color:black;border-style:solid;border-width:1px;font-family:Arial, sans-serif;font-size:14px;               overflow:hidden;padding:10px 5px;word-break:normal;}             .tg th{border-color:black;border-style:solid;border-width:1px;font-family:Arial, sans-serif;font-size:14px;               font-weight:normal;overflow:hidden;padding:10px 5px;word-break:normal;}             .tg .tg-3aoq{border-color:inherit;font-family:&quot;Comic Sans MS&quot;, cursive, sans-serif !important;font-weight:bold;text-align:center;               vertical-align:top}             .tg .tg-am6h{border-color:inherit;font-family:&quot;Comic Sans MS&quot;, cursive, sans-serif !important;text-align:center;vertical-align:top}             &lt;/style&gt;             &lt;head&gt; &lt;center&gt;&lt;h3 style=&#x27;font-family:&quot;Comic Sans MS&quot;, cursive, sans-serif !important&#x27;&gt;TinkerTown&lt;/h3&gt;&lt;/center&gt; &lt;/head&gt;             &lt;table class=&quot;tg&quot;&gt;             &lt;tbody&gt;               &lt;tr&gt;                 &lt;td class=&quot;tg-3aoq&quot;&gt;City&lt;/td&gt;                 &lt;td class=&quot;tg-am6h&quot;&gt;Sandia Park&lt;/td&gt;               &lt;/tr&gt;               &lt;tr&gt;                 &lt;td class=&quot;tg-3aoq&quot;&gt;Country&lt;/td&gt;                 &lt;td class=&quot;tg-am6h&quot;&gt;United States&lt;/td&gt;               &lt;/tr&gt;               &lt;tr&gt;                 &lt;td class=&quot;tg-3aoq&quot;&gt;Address&lt;/td&gt;                 &lt;td class=&quot;tg-am6h&quot;&gt;121 Sandia Crest Road&lt;/td&gt;               &lt;/tr&gt;               &lt;tr&gt;                 &lt;td class=&quot;tg-3aoq&quot;&gt;People&lt;br&gt;been here&lt;/td&gt;                 &lt;td class=&quot;tg-am6h&quot;&gt;496&lt;/td&gt;               &lt;/tr&gt;             &lt;/tbody&gt;             &lt;/table&gt;&lt;/div&gt;`)[0];\n            popup_3aa59b916a135eaad2a6902733a57c9f.setContent(html_10b9c4a3370ff2301c085f73b92f225f);\n        \n\n        marker_6423683eaa2b63167e9d0a0772096bbe.bindPopup(popup_3aa59b916a135eaad2a6902733a57c9f)\n        ;\n\n        \n    \n    \n            marker_6423683eaa2b63167e9d0a0772096bbe.bindTooltip(\n                `&lt;div&gt;\n                     TinkerTown\n                 &lt;/div&gt;`,\n                {&quot;sticky&quot;: true}\n            );\n        \n    \n            var marker_e78ee75b2a5bd28dcb95044d11c7d74d = L.marker(\n                [52.3785, 4.8835],\n                {}\n            ).addTo(map_7f2a8b30b792bbc4f1617fc07f9d8105);\n        \n    \n            var icon_1a467400d6d4d4d82d92fb69e644bea2 = L.AwesomeMarkers.icon(\n                {&quot;extraClasses&quot;: &quot;fa-rotate-0&quot;, &quot;icon&quot;: &quot;info-sign&quot;, &quot;iconColor&quot;: &quot;white&quot;, &quot;markerColor&quot;: &quot;orange&quot;, &quot;prefix&quot;: &quot;glyphicon&quot;}\n            );\n            marker_e78ee75b2a5bd28dcb95044d11c7d74d.setIcon(icon_1a467400d6d4d4d82d92fb69e644bea2);\n        \n    \n        var popup_001c6cb677bc060336d9af595e187e3c = L.popup({&quot;maxWidth&quot;: 500});\n\n        \n            var html_a55b0df1a26d6936b28c22b99820fc34 = $(`&lt;div id=&quot;html_a55b0df1a26d6936b28c22b99820fc34&quot; style=&quot;width: 100.0%; height: 100.0%;&quot;&gt;&lt;style type=&quot;text/css&quot;&gt;             .tg  {border-collapse:collapse;border-spacing:0;margin:0px auto;}             .tg td{border-color:black;border-style:solid;border-width:1px;font-family:Arial, sans-serif;font-size:14px;               overflow:hidden;padding:10px 5px;word-break:normal;}             .tg th{border-color:black;border-style:solid;border-width:1px;font-family:Arial, sans-serif;font-size:14px;               font-weight:normal;overflow:hidden;padding:10px 5px;word-break:normal;}             .tg .tg-3aoq{border-color:inherit;font-family:&quot;Comic Sans MS&quot;, cursive, sans-serif !important;font-weight:bold;text-align:center;               vertical-align:top}             .tg .tg-am6h{border-color:inherit;font-family:&quot;Comic Sans MS&quot;, cursive, sans-serif !important;text-align:center;vertical-align:top}             &lt;/style&gt;             &lt;head&gt; &lt;center&gt;&lt;h3 style=&#x27;font-family:&quot;Comic Sans MS&quot;, cursive, sans-serif !important&#x27;&gt;Pianola Museum&lt;/h3&gt;&lt;/center&gt; &lt;/head&gt;             &lt;table class=&quot;tg&quot;&gt;             &lt;tbody&gt;               &lt;tr&gt;                 &lt;td class=&quot;tg-3aoq&quot;&gt;City&lt;/td&gt;                 &lt;td class=&quot;tg-am6h&quot;&gt;Amsterdam&lt;/td&gt;               &lt;/tr&gt;               &lt;tr&gt;                 &lt;td class=&quot;tg-3aoq&quot;&gt;Country&lt;/td&gt;                 &lt;td class=&quot;tg-am6h&quot;&gt;Netherlands&lt;/td&gt;               &lt;/tr&gt;               &lt;tr&gt;                 &lt;td class=&quot;tg-3aoq&quot;&gt;Address&lt;/td&gt;                 &lt;td class=&quot;tg-am6h&quot;&gt;Westerstraat 106&lt;/td&gt;               &lt;/tr&gt;               &lt;tr&gt;                 &lt;td class=&quot;tg-3aoq&quot;&gt;People&lt;br&gt;been here&lt;/td&gt;                 &lt;td class=&quot;tg-am6h&quot;&gt;168&lt;/td&gt;               &lt;/tr&gt;             &lt;/tbody&gt;             &lt;/table&gt;&lt;/div&gt;`)[0];\n            popup_001c6cb677bc060336d9af595e187e3c.setContent(html_a55b0df1a26d6936b28c22b99820fc34);\n        \n\n        marker_e78ee75b2a5bd28dcb95044d11c7d74d.bindPopup(popup_001c6cb677bc060336d9af595e187e3c)\n        ;\n\n        \n    \n    \n            marker_e78ee75b2a5bd28dcb95044d11c7d74d.bindTooltip(\n                `&lt;div&gt;\n                     Pianola Museum\n                 &lt;/div&gt;`,\n                {&quot;sticky&quot;: true}\n            );\n        \n    \n            var marker_71175ee2f02024ddbddc829d01a76279 = L.marker(\n                [50.0835, 14.4222],\n                {}\n            ).addTo(map_7f2a8b30b792bbc4f1617fc07f9d8105);\n        \n    \n            var icon_ae1c5c7e1d463c9c4893ad23bc207d2a = L.AwesomeMarkers.icon(\n                {&quot;extraClasses&quot;: &quot;fa-rotate-0&quot;, &quot;icon&quot;: &quot;info-sign&quot;, &quot;iconColor&quot;: &quot;white&quot;, &quot;markerColor&quot;: &quot;orange&quot;, &quot;prefix&quot;: &quot;glyphicon&quot;}\n            );\n            marker_71175ee2f02024ddbddc829d01a76279.setIcon(icon_ae1c5c7e1d463c9c4893ad23bc207d2a);\n        \n    \n        var popup_b50d0d431908268df5432ad818172ee0 = L.popup({&quot;maxWidth&quot;: 500});\n\n        \n            var html_4837cc1196f7e8053e833f0e4a5bde64 = $(`&lt;div id=&quot;html_4837cc1196f7e8053e833f0e4a5bde64&quot; style=&quot;width: 100.0%; height: 100.0%;&quot;&gt;&lt;style type=&quot;text/css&quot;&gt;             .tg  {border-collapse:collapse;border-spacing:0;margin:0px auto;}             .tg td{border-color:black;border-style:solid;border-width:1px;font-family:Arial, sans-serif;font-size:14px;               overflow:hidden;padding:10px 5px;word-break:normal;}             .tg th{border-color:black;border-style:solid;border-width:1px;font-family:Arial, sans-serif;font-size:14px;               font-weight:normal;overflow:hidden;padding:10px 5px;word-break:normal;}             .tg .tg-3aoq{border-color:inherit;font-family:&quot;Comic Sans MS&quot;, cursive, sans-serif !important;font-weight:bold;text-align:center;               vertical-align:top}             .tg .tg-am6h{border-color:inherit;font-family:&quot;Comic Sans MS&quot;, cursive, sans-serif !important;text-align:center;vertical-align:top}             &lt;/style&gt;             &lt;head&gt; &lt;center&gt;&lt;h3 style=&#x27;font-family:&quot;Comic Sans MS&quot;, cursive, sans-serif !important&#x27;&gt;Batalion Comic Book Museum and Club&lt;/h3&gt;&lt;/center&gt; &lt;/head&gt;             &lt;table class=&quot;tg&quot;&gt;             &lt;tbody&gt;               &lt;tr&gt;                 &lt;td class=&quot;tg-3aoq&quot;&gt;City&lt;/td&gt;                 &lt;td class=&quot;tg-am6h&quot;&gt;Prague&lt;/td&gt;               &lt;/tr&gt;               &lt;tr&gt;                 &lt;td class=&quot;tg-3aoq&quot;&gt;Country&lt;/td&gt;                 &lt;td class=&quot;tg-am6h&quot;&gt;Czechia&lt;/td&gt;               &lt;/tr&gt;               &lt;tr&gt;                 &lt;td class=&quot;tg-3aoq&quot;&gt;Address&lt;/td&gt;                 &lt;td class=&quot;tg-am6h&quot;&gt;5 28. října&lt;/td&gt;               &lt;/tr&gt;               &lt;tr&gt;                 &lt;td class=&quot;tg-3aoq&quot;&gt;People&lt;br&gt;been here&lt;/td&gt;                 &lt;td class=&quot;tg-am6h&quot;&gt;288&lt;/td&gt;               &lt;/tr&gt;             &lt;/tbody&gt;             &lt;/table&gt;&lt;/div&gt;`)[0];\n            popup_b50d0d431908268df5432ad818172ee0.setContent(html_4837cc1196f7e8053e833f0e4a5bde64);\n        \n\n        marker_71175ee2f02024ddbddc829d01a76279.bindPopup(popup_b50d0d431908268df5432ad818172ee0)\n        ;\n\n        \n    \n    \n            marker_71175ee2f02024ddbddc829d01a76279.bindTooltip(\n                `&lt;div&gt;\n                     Batalion Comic Book Museum and Club\n                 &lt;/div&gt;`,\n                {&quot;sticky&quot;: true}\n            );\n        \n    \n            var marker_7467fa0cbfd4ad2ce709d7f6f2c1d8ca = L.marker(\n                [37.8067, -122.4198],\n                {}\n            ).addTo(map_7f2a8b30b792bbc4f1617fc07f9d8105);\n        \n    \n            var icon_1064f9f3c852ae371943e889e84f172e = L.AwesomeMarkers.icon(\n                {&quot;extraClasses&quot;: &quot;fa-rotate-0&quot;, &quot;icon&quot;: &quot;info-sign&quot;, &quot;iconColor&quot;: &quot;white&quot;, &quot;markerColor&quot;: &quot;orange&quot;, &quot;prefix&quot;: &quot;glyphicon&quot;}\n            );\n            marker_7467fa0cbfd4ad2ce709d7f6f2c1d8ca.setIcon(icon_1064f9f3c852ae371943e889e84f172e);\n        \n    \n        var popup_fe3b7a1d3b08e57e92386cb0039d247d = L.popup({&quot;maxWidth&quot;: 500});\n\n        \n            var html_ed6f40a834fc8e0b4e9e22019fbf10ef = $(`&lt;div id=&quot;html_ed6f40a834fc8e0b4e9e22019fbf10ef&quot; style=&quot;width: 100.0%; height: 100.0%;&quot;&gt;&lt;style type=&quot;text/css&quot;&gt;             .tg  {border-collapse:collapse;border-spacing:0;margin:0px auto;}             .tg td{border-color:black;border-style:solid;border-width:1px;font-family:Arial, sans-serif;font-size:14px;               overflow:hidden;padding:10px 5px;word-break:normal;}             .tg th{border-color:black;border-style:solid;border-width:1px;font-family:Arial, sans-serif;font-size:14px;               font-weight:normal;overflow:hidden;padding:10px 5px;word-break:normal;}             .tg .tg-3aoq{border-color:inherit;font-family:&quot;Comic Sans MS&quot;, cursive, sans-serif !important;font-weight:bold;text-align:center;               vertical-align:top}             .tg .tg-am6h{border-color:inherit;font-family:&quot;Comic Sans MS&quot;, cursive, sans-serif !important;text-align:center;vertical-align:top}             &lt;/style&gt;             &lt;head&gt; &lt;center&gt;&lt;h3 style=&#x27;font-family:&quot;Comic Sans MS&quot;, cursive, sans-serif !important&#x27;&gt;Museum of the Eye&lt;/h3&gt;&lt;/center&gt; &lt;/head&gt;             &lt;table class=&quot;tg&quot;&gt;             &lt;tbody&gt;               &lt;tr&gt;                 &lt;td class=&quot;tg-3aoq&quot;&gt;City&lt;/td&gt;                 &lt;td class=&quot;tg-am6h&quot;&gt;San Francisco&lt;/td&gt;               &lt;/tr&gt;               &lt;tr&gt;                 &lt;td class=&quot;tg-3aoq&quot;&gt;Country&lt;/td&gt;                 &lt;td class=&quot;tg-am6h&quot;&gt;United States&lt;/td&gt;               &lt;/tr&gt;               &lt;tr&gt;                 &lt;td class=&quot;tg-3aoq&quot;&gt;Address&lt;/td&gt;                 &lt;td class=&quot;tg-am6h&quot;&gt;655 Beach Street&lt;/td&gt;               &lt;/tr&gt;               &lt;tr&gt;                 &lt;td class=&quot;tg-3aoq&quot;&gt;People&lt;br&gt;been here&lt;/td&gt;                 &lt;td class=&quot;tg-am6h&quot;&gt;75&lt;/td&gt;               &lt;/tr&gt;             &lt;/tbody&gt;             &lt;/table&gt;&lt;/div&gt;`)[0];\n            popup_fe3b7a1d3b08e57e92386cb0039d247d.setContent(html_ed6f40a834fc8e0b4e9e22019fbf10ef);\n        \n\n        marker_7467fa0cbfd4ad2ce709d7f6f2c1d8ca.bindPopup(popup_fe3b7a1d3b08e57e92386cb0039d247d)\n        ;\n\n        \n    \n    \n            marker_7467fa0cbfd4ad2ce709d7f6f2c1d8ca.bindTooltip(\n                `&lt;div&gt;\n                     Museum of the Eye\n                 &lt;/div&gt;`,\n                {&quot;sticky&quot;: true}\n            );\n        \n&lt;/script&gt;\" style=\"position:absolute;width:100%;height:100%;left:0;top:0;border:none !important;\" allowfullscreen webkitallowfullscreen mozallowfullscreen></iframe></div></div>"
     },
     "execution_count": 221,
     "metadata": {},
     "output_type": "execute_result"
    }
   ],
   "source": [
    "plot_map(top_k, country)"
   ],
   "metadata": {
    "collapsed": false
   }
  },
  {
   "cell_type": "markdown",
   "source": [
    "# 7. Theoretical question"
   ],
   "metadata": {
    "collapsed": false
   }
  },
  {
   "cell_type": "code",
   "execution_count": 3,
   "outputs": [],
   "source": [
    "applicants_info = functions.read_input()"
   ],
   "metadata": {
    "collapsed": false
   }
  },
  {
   "cell_type": "markdown",
   "source": [
    "## *QuickSort*"
   ],
   "metadata": {
    "collapsed": false
   }
  },
  {
   "cell_type": "code",
   "execution_count": 4,
   "outputs": [],
   "source": [
    "def partition(array, low, high):\n",
    "\n",
    "    flag = False\n",
    "\n",
    "    #checking if arr == dict.items or list of names\n",
    "    if type(array[0]) == tuple:\n",
    "        flag = True\n",
    "\n",
    "    #if dict.items()\n",
    "    if(flag):\n",
    "        pivot = array[high][0]\n",
    "\n",
    "    #if list of names\n",
    "    else:\n",
    "        pivot = array[high]\n",
    "    i = low - 1\n",
    "\n",
    "    for j in range(low, high):\n",
    "        #descending order by scores\n",
    "        if flag:\n",
    "            if array[j][0] >= pivot:\n",
    "                i = i + 1\n",
    "                (array[i], array[j]) = (array[j], array[i])\n",
    "\n",
    "        #ascending order by names\n",
    "        else:\n",
    "            if array[j] <= pivot:\n",
    "                i = i + 1\n",
    "                (array[i], array[j]) = (array[j], array[i])\n",
    "\n",
    "    (array[i + 1], array[high]) = (array[high], array[i + 1])\n",
    "    return i + 1\n",
    "\n",
    "def quickSort(array, low, high):\n",
    "    if low < high:\n",
    "        pi = partition(array, low, high)\n",
    "        quickSort(array, low, pi - 1)\n",
    "        quickSort(array, pi + 1, high)"
   ],
   "metadata": {
    "collapsed": false
   }
  },
  {
   "cell_type": "markdown",
   "source": [
    "## *SelectionSort*"
   ],
   "metadata": {
    "collapsed": false
   }
  },
  {
   "cell_type": "code",
   "execution_count": 5,
   "outputs": [],
   "source": [
    "def selection_sort(arr):\n",
    "\n",
    "    flag = False\n",
    "\n",
    "    #checking if arr == dict.items or list of names\n",
    "    if type(arr[0]) == tuple:\n",
    "        flag = True\n",
    "\n",
    "    for i in range(len(arr)):\n",
    "        min_i = i\n",
    "        for j in range(i + 1, len(arr)):\n",
    "\n",
    "            #descending by score\n",
    "            if flag:\n",
    "                if arr[j][0] > arr[min_i][0]:\n",
    "                    min_i = j\n",
    "\n",
    "            #ascending by name\n",
    "            else:\n",
    "                if arr[j] < arr[min_i]:\n",
    "                    min_i = j\n",
    "\n",
    "        arr[i], arr[min_i] = arr[min_i], arr[i]"
   ],
   "metadata": {
    "collapsed": false
   }
  },
  {
   "cell_type": "markdown",
   "source": [
    "## *BubbleSort*"
   ],
   "metadata": {
    "collapsed": false
   }
  },
  {
   "cell_type": "code",
   "execution_count": 6,
   "outputs": [],
   "source": [
    "def bubbleSort(arr):\n",
    "\n",
    "    flag = False\n",
    "\n",
    "    #checking if average_score == dict.items\n",
    "    if type(arr[0]) == tuple:\n",
    "        flag = True\n",
    "\n",
    "    for i in range(len(arr)):\n",
    "        for j in range(0, len(arr) - i - 1):\n",
    "\n",
    "            #sort dict.items() by dict.keys()\n",
    "            if flag:\n",
    "                if arr[j][0] < arr[j + 1][0]:\n",
    "                    temp = arr[j]\n",
    "                    arr[j] = arr[j+1]\n",
    "                    arr[j+1] = temp\n",
    "\n",
    "            #if arr is list of names\n",
    "            else:\n",
    "                if arr[j] > arr[j + 1]:\n",
    "                    temp = arr[j]\n",
    "                    arr[j] = arr[j+1]\n",
    "                    arr[j+1] = temp"
   ],
   "metadata": {
    "collapsed": false
   }
  },
  {
   "cell_type": "code",
   "execution_count": 7,
   "outputs": [],
   "source": [
    "# Custom function to apply sorting algorithms\n",
    "def my_sort(func, data, qs=False):\n",
    "\n",
    "    data = list(data.items())\n",
    "\n",
    "    old = time.time()\n",
    "    # sort by avg points\n",
    "    if qs: func(data,0,len(data)-1)\n",
    "    else: func(data)\n",
    "    t1 = time.time() - old\n",
    "    # sort by first and last name\n",
    "    for i in range(len(data)):\n",
    "        if len(data[i][1]) != 1:\n",
    "            a = data[i][1]\n",
    "            if qs: func(a,0,len(a)-1)\n",
    "            else: func(a)\n",
    "            data[i] = (data[i][0], a)\n",
    "    t2 = time.time() - old\n",
    "\n",
    "    return t1, t2, data"
   ],
   "metadata": {
    "collapsed": false
   }
  },
  {
   "cell_type": "code",
   "execution_count": 8,
   "outputs": [],
   "source": [
    "t1_1, t1, data = my_sort(selection_sort, applicants_info)"
   ],
   "metadata": {
    "collapsed": false
   }
  },
  {
   "cell_type": "code",
   "execution_count": 9,
   "outputs": [],
   "source": [
    "t2_1, t2, data = my_sort(bubbleSort, applicants_info)"
   ],
   "metadata": {
    "collapsed": false
   }
  },
  {
   "cell_type": "code",
   "execution_count": 10,
   "outputs": [],
   "source": [
    "t3_1, t3, data = my_sort(quickSort, applicants_info, qs=True)"
   ],
   "metadata": {
    "collapsed": false
   }
  },
  {
   "cell_type": "code",
   "execution_count": 11,
   "outputs": [],
   "source": [
    "# Write 'RankingList.txt' output file\n",
    "functions.write_output(data)"
   ],
   "metadata": {
    "collapsed": false
   }
  },
  {
   "cell_type": "code",
   "execution_count": 12,
   "outputs": [
    {
     "data": {
      "text/plain": "<Figure size 1400x800 with 1 Axes>",
      "image/png": "[encoded data removed]"
     },
     "metadata": {},
     "output_type": "display_data"
    }
   ],
   "source": [
    "functions.plot_time([t2_1,t1_1,t3_1])"
   ],
   "metadata": {
    "collapsed": false
   }
  },
  {
   "cell_type": "code",
   "execution_count": 13,
   "outputs": [
    {
     "data": {
      "text/plain": "<Figure size 1400x800 with 1 Axes>",
      "image/png": "[encoded data removed]"
     },
     "metadata": {},
     "output_type": "display_data"
    }
   ],
   "source": [
    "functions.plot_time([t2,t1,t3], alph=True)"
   ],
   "metadata": {
    "collapsed": false
   }
  },
  {
   "cell_type": "markdown",
   "source": [
    "#### What is the time complexity of each algorithm you have used?\n",
    "**BubbleSort**: $O(n^2)$\n",
    "**SelectionSort**: $O(n^2)$\n",
    "**QuickSort**: $O(n \\cdot log \\, n)$ (*worst case* $O(n^2)$)"
   ],
   "metadata": {
    "collapsed": false
   }
  },
  {
   "cell_type": "markdown",
   "source": [
    "#### What is the most optimal algorithm, in your opinion, and why?\n",
    "If we sort the whole data only by **average score**, the most optimal algorithm is **QuickSort**. Quicksort is the *fastest comparison-based sorting algorithm* for many types of data.\n",
    "If we sort the data by **average score** and then sort students names *alphabetically* - as asked by the exercise instructions - **SelectionSort** algorithm is optimal, presumably thanks to the significantly *small number of write operations* it performs (which may turn out to be quite expensive), while **QuickSort** performs the worst, probably due to the *overhead of recursive calls* which could be non-negligible for small list sizes."
   ],
   "metadata": {
    "collapsed": false
   }
  },
  {
   "cell_type": "markdown",
   "source": [
    "## *MapReduce*"
   ],
   "metadata": {
    "collapsed": false
   }
  },
  {
   "cell_type": "code",
   "execution_count": 14,
   "outputs": [],
   "source": [
    "f = open(\"ApplicantsInfo.txt\", \"r\")\n",
    "n,m = map(int, f.readline().split())\n",
    "applicants_info = defaultdict(list)\n",
    "\n",
    "def myFunc(arg):\n",
    "    return arg[0]\n",
    "\n",
    "# Mapping\n",
    "map_info = []\n",
    "for i in range(n):\n",
    "    x = f.readline()\n",
    "    a = np.array(x.split())\n",
    "    score = sum(map(int,a[2:]))/len(a[2:])\n",
    "    map_info.append((score, [' '.join(a[:2])]))\n",
    "f.close()\n",
    "\n",
    "# Sorting\n",
    "old = time.time()\n",
    "map_info.sort(reverse=True, key=myFunc)\n",
    "\n",
    "# Reducing\n",
    "def reducing_func(arg1, arg2):\n",
    "    first = False\n",
    "    if type(arg1) == list:\n",
    "        arg1_temp = arg1[len(arg1)-1]\n",
    "    else:\n",
    "        arg1_temp = arg1\n",
    "        first = True\n",
    "    if arg1_temp[0] == arg2[0]:\n",
    "\n",
    "        arg1_temp[1].extend(arg2[1])\n",
    "        arg1_temp[1].sort()\n",
    "        if first == False:\n",
    "            arg1.pop()\n",
    "            arg1.append(arg1_temp)\n",
    "            return arg1\n",
    "        else:\n",
    "            return (arg1_temp[0], arg1_temp[1])\n",
    "    else:\n",
    "        if first == True:\n",
    "            return [arg1, arg2]\n",
    "        else:\n",
    "            arg1.append(arg2)\n",
    "            return arg1\n",
    "\n",
    "# MapReduce\n",
    "a = functools.reduce(reducing_func, map_info)\n",
    "\n",
    "t4 = time.time() - old"
   ],
   "metadata": {
    "collapsed": false
   }
  },
  {
   "cell_type": "code",
   "execution_count": 15,
   "outputs": [
    {
     "data": {
      "text/plain": "<Figure size 1400x800 with 1 Axes>",
      "image/png": "[encoded data removed]"
     },
     "metadata": {},
     "output_type": "display_data"
    }
   ],
   "source": [
    "functions.plot_time([t2,t1,t3,t4], mp=True)"
   ],
   "metadata": {
    "collapsed": false
   }
  },
  {
   "cell_type": "code",
   "execution_count": null,
   "outputs": [],
   "source": [],
   "metadata": {
    "collapsed": false
   }
  }
 ],
 "metadata": {
  "kernelspec": {
   "display_name": "Python 3",
   "language": "python",
   "name": "python3"
  },
  "language_info": {
   "codemirror_mode": {
    "name": "ipython",
    "version": 3
   },
   "file_extension": ".py",
   "mimetype": "text/x-python",
   "name": "python",
   "nbconvert_exporter": "python",
   "pygments_lexer": "ipython3",
   "version": "3.7.4"
  }
 },
 "nbformat": 4,
 "nbformat_minor": 2
}
